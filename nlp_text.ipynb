{
 "cells": [
  {
   "cell_type": "code",
   "execution_count": 1,
   "metadata": {},
   "outputs": [],
   "source": [
    "import logging\n",
    "logging.root.handlers = []  # Jupyter messes up logging so needs a reset\n",
    "logging.basicConfig(format='%(asctime)s : %(levelname)s : %(message)s', level=logging.INFO)\n",
    "from smart_open import smart_open\n",
    "import pandas as pd\n",
    "import numpy as np\n",
    "from numpy import random\n",
    "import gensim\n",
    "import nltk\n",
    "from sklearn import linear_model\n",
    "from sklearn.feature_extraction.text import CountVectorizer, TfidfVectorizer\n",
    "from sklearn.metrics import accuracy_score, confusion_matrix\n",
    "import matplotlib.pyplot as plt\n",
    "from gensim.models import Word2Vec\n",
    "from sklearn.neighbors import KNeighborsClassifier\n",
    "from sklearn import linear_model\n",
    "import sys\n",
    "from nltk.corpus import stopwords\n",
    "from string import punctuation\n",
    "import os\n",
    "from ufal.udpipe import Model, Pipeline\n",
    "import re\n",
    "import sklearn as sk\n",
    "from sklearn.model_selection import train_test_split"
   ]
  },
  {
   "cell_type": "markdown",
   "metadata": {},
   "source": [
    "## Предобработка текста\n",
    "(P.S. на тестовом варианте небольшого текста рассказа О. Генри \"Русские соболя\".)"
   ]
  },
  {
   "cell_type": "markdown",
   "metadata": {},
   "source": [
    "1. Предобработка текстовых данных\n",
    "Функциональность RusVectōrēs позволяет пользователям делать запрос к моделям с одним конкретным словом или с несколькими словами. С помощью сервиса можно также анализировать отношения между бóльшим количеством слов.\n",
    "\n",
    "Если взять уже готовую модель, а затем обрабатывать с её помощью тексты локальо на компьютере, то необходимо , чтобы данные, которые подаются на вход модели, были в том же формате, что и данные, на которых эта модель была натренирована. \n",
    "\n",
    "\n",
    "Предобработка текстов для тренировки моделей осуществлялась следующим образом:\n",
    "\n",
    "лемматизация и удаление стоп-слов;\n",
    "приведение лемм к нижнему регистру;\n",
    "добавление частеречного тэга для каждого слова.\n",
    "\n",
    "Особого внимания заслуживает последний пункт предобработки. Как можно видеть из таблицы с описанием моделей, частеречные тэги для слов в различных моделях принадлежат к разным тагсетам. Первые модели использовали тагсет Mystem, затем перешли на Universal POS tags. В моделях на базе fastText частеречные тэги не используются вовсе.\n",
    "\n",
    "Давайте попробуем воссоздать процесс предобработки текста на примере рассказа О. Генри \"Русские соболя\". Для предобработки мы предлагаем использовать UDPipe, чтобы сразу получить частеречную разметку в виде Universal POS-tags.\n",
    "\n",
    "\n",
    "Чтобы загружать файлы, можно использовать реализацию wget в виде питоновской библиотеки:\n",
    "\n",
    "pip install wget"
   ]
  },
  {
   "cell_type": "code",
   "execution_count": 2,
   "metadata": {},
   "outputs": [],
   "source": [
    "import wget"
   ]
  },
  {
   "cell_type": "code",
   "execution_count": 3,
   "metadata": {},
   "outputs": [],
   "source": [
    "# Необходимо скачать модуль для предобработки текста(раставления_тегов_честей_речи)\n",
    "# Делается только первый раз, далее всё загружаем из папки проекта\n",
    "# udpipe_url = 'https://rusvectores.org/static/models/udpipe_syntagrus.model'\n",
    "# text_url = 'https://rusvectores.org/static/henry_sobolya.txt'\n",
    "\n",
    "# modelfile = wget.download(udpipe_url)\n",
    "# textfile = wget.download(text_url)\n"
   ]
  },
  {
   "cell_type": "code",
   "execution_count": 4,
   "metadata": {},
   "outputs": [
    {
     "name": "stdout",
     "output_type": "stream",
     "text": [
      "True\n",
      "True\n"
     ]
    }
   ],
   "source": [
    "# Проверяем наличие файлов в нашей папке проекта True-есть, False-отсутствуют\n",
    "\n",
    "print(os.path.isfile('udpipe_syntagrus.model'))\n",
    "print(os.path.isfile('henry_sobolya.txt'))"
   ]
  },
  {
   "cell_type": "code",
   "execution_count": 12,
   "metadata": {},
   "outputs": [],
   "source": [
    "modelfile = 'udpipe_syntagrus.model'\n",
    "textfile = 'henry_sobolya.txt'"
   ]
  },
  {
   "cell_type": "markdown",
   "metadata": {},
   "source": [
    "Перед лемматизацией и тэггингом, модели были очищены от пунктуации и возможных ошибок при помощи фильтров . Вспомогательные функции для очистки текста в скрипте для препроцессинга. Две функции clean_token и clean_lemma для очистки от знаков препинания и различных типографических артефактов."
   ]
  },
  {
   "cell_type": "code",
   "execution_count": 13,
   "metadata": {},
   "outputs": [],
   "source": [
    "def num_replace(word):\n",
    "    newtoken = 'x' * len(word)\n",
    "    return newtoken\n",
    "\n",
    "\n",
    "def clean_token(token, misc):\n",
    "    out_token = token.strip().replace(' ', '')\n",
    "    if token == 'Файл' and 'SpaceAfter=No' in misc:\n",
    "        return None\n",
    "    return out_token\n",
    "\n",
    "\n",
    "def clean_lemma(lemma, pos):\n",
    "    out_lemma = lemma.strip().replace(' ', '').replace('_', '').lower()\n",
    "    if '|' in out_lemma or out_lemma.endswith('.jpg') or out_lemma.endswith('.png'):\n",
    "        return None\n",
    "    if pos != 'PUNCT':\n",
    "        if out_lemma.startswith('«') or out_lemma.startswith('»'):\n",
    "            out_lemma = ''.join(out_lemma[1:])\n",
    "        if out_lemma.endswith('«') or out_lemma.endswith('»'):\n",
    "            out_lemma = ''.join(out_lemma[:-1])\n",
    "        if out_lemma.endswith('!') or out_lemma.endswith('?') or out_lemma.endswith(',') \\\n",
    "                or out_lemma.endswith('.'):\n",
    "            out_lemma = ''.join(out_lemma[:-1])\n",
    "    return out_lemma"
   ]
  },
  {
   "cell_type": "markdown",
   "metadata": {},
   "source": [
    "Приступим к собственно предобработке текста. Попробуем лемматизировать текст и добавить частеречные тэги при помощи этой функции:"
   ]
  },
  {
   "cell_type": "markdown",
   "metadata": {},
   "source": [
    "Эту функцию можно также изменить под конкретную задачу. Например, если частеречные тэги не нужны, в функции ниже выставим keep_pos=False. Если необходимо сохранить знаки пунктуации, можно выставить keep_punct=True"
   ]
  },
  {
   "cell_type": "code",
   "execution_count": 15,
   "metadata": {},
   "outputs": [],
   "source": [
    "def process(pipeline, text='Строка', keep_pos=True, keep_punct=False):\n",
    "    entities = {'PROPN'}\n",
    "    named = False  # переменная для запоминания того, что нам встретилось имя собственное\n",
    "    memory = []\n",
    "    mem_case = None\n",
    "    mem_number = None\n",
    "    tagged_propn = []\n",
    "\n",
    "    # обрабатываем текст, получаем результат в формате conllu:\n",
    "    processed = pipeline.process(text)\n",
    "\n",
    "    # пропускаем строки со служебной информацией:\n",
    "    content = [l for l in processed.split('\\n') if not l.startswith('#')]\n",
    "\n",
    "    # извлекаем из обработанного текста леммы, тэги и морфологические характеристики\n",
    "    tagged = [w.split('\\t') for w in content if w]\n",
    "    \n",
    "    russian_stopwords = stopwords.words(\"russian\")\n",
    "    \n",
    "    for t in tagged:\n",
    "        if len(t) != 10: # если список короткий — строчка не содержит разбора, пропускаем\n",
    "            continue\n",
    "        (word_id,token,lemma,pos,xpos,feats,head,deprel,deps,misc) = t\n",
    "        token = clean_token(token, misc)\n",
    "        lemma = clean_lemma(lemma, pos)\n",
    "        if token in  russian_stopwords: # если стоп-слово — пропускаем, не будет использовано\n",
    "            continue\n",
    "        if not lemma or not token: # если слово пустое — пропускаем\n",
    "            continue\n",
    "        if pos in entities: # здесь отдельно обрабатываем имена собственные — они требуют особого обращения\n",
    "            if '|' not in feats:\n",
    "                tagged_propn.append('%s_%s' % (lemma, pos))\n",
    "                continue\n",
    "            morph = {el.split('=')[0]: el.split('=')[1] for el in feats.split('|')}\n",
    "            if 'Case' not in morph or 'Number' not in morph:\n",
    "                tagged_propn.append('%s_%s' % (lemma, pos))\n",
    "                continue\n",
    "            if not named:\n",
    "                named = True\n",
    "                mem_case = morph['Case']\n",
    "                mem_number = morph['Number']\n",
    "            if morph['Case'] == mem_case and morph['Number'] == mem_number:\n",
    "                memory.append(lemma)\n",
    "                if 'SpacesAfter=\\\\n' in misc or 'SpacesAfter=\\s\\\\n' in misc:\n",
    "                    named = False\n",
    "                    past_lemma = '::'.join(memory)\n",
    "                    memory = []\n",
    "                    tagged_propn.append(past_lemma + '_PROPN ')\n",
    "            else:\n",
    "                named = False\n",
    "                past_lemma = '::'.join(memory)\n",
    "                memory = []\n",
    "                tagged_propn.append(past_lemma + '_PROPN ')\n",
    "                tagged_propn.append('%s_%s' % (lemma, pos))\n",
    "        else:\n",
    "            if not named:\n",
    "                if pos == 'NUM' and token.isdigit():  # Заменяем числа на xxxxx той же длины\n",
    "                    lemma = num_replace(token)\n",
    "                tagged_propn.append('%s_%s' % (lemma, pos))\n",
    "            else:\n",
    "                named = False\n",
    "                past_lemma = '::'.join(memory)\n",
    "                memory = []\n",
    "                tagged_propn.append(past_lemma + '_PROPN ')\n",
    "                tagged_propn.append('%s_%s' % (lemma, pos))\n",
    "            \n",
    "    if not keep_punct: # обрабатываем случай, когда пользователь попросил не сохранять пунктуацию (по умолчанию она сохраняется)\n",
    "        tagged_propn = [word for word in tagged_propn if word.split('_')[1] != 'PUNCT']\n",
    "    if not keep_pos:\n",
    "        tagged_propn = [word.split('_')[0] for word in tagged_propn]\n",
    "    return tagged_propn"
   ]
  },
  {
   "cell_type": "markdown",
   "metadata": {},
   "source": [
    "Загружаем модель UDPipe, читаем текстовый файл и обрабатываем его при помощи функции. В файле должен содержаться необработанный текст (одно предложение на строку или один абзац на строку). На выход мы получаем последовательность разделенных пробелами лемм с частями речи («зеленый_NOUN трамвай_NOUN»)."
   ]
  },
  {
   "cell_type": "code",
   "execution_count": 16,
   "metadata": {},
   "outputs": [],
   "source": [
    "modelfile='udpipe_syntagrus.model'\n",
    "model = Model.load(modelfile)\n",
    "process_pipeline = Pipeline(model, 'tokenize', Pipeline.DEFAULT, Pipeline.DEFAULT, 'conllu')"
   ]
  },
  {
   "cell_type": "code",
   "execution_count": 17,
   "metadata": {},
   "outputs": [],
   "source": [
    "def tag_ud(text,process_pipeline):\n",
    "    #udpipe_model_url = 'https://rusvectores.org/static/models/udpipe_syntagrus.model'\n",
    "    #udpipe_filename = udpipe_model_url.split('/')[-1]\n",
    "\n",
    "    #if not os.path.isfile(model):\n",
    "        #print('UDPipe model not found. Downloading...', file=sys.stderr)\n",
    "        #wget.download(udpipe_model_url)\n",
    "\n",
    "    #print('\\nLoading the model...', file=sys.stderr)\n",
    "    #model = Model.load(modelfile)\n",
    "    #process_pipeline = Pipeline(model, 'tokenize', Pipeline.DEFAULT, Pipeline.DEFAULT, 'conllu')\n",
    "\n",
    "    #print('Processing input...', file=sys.stderr)\n",
    "    lines = text.split('\\n')\n",
    "    tagged = []\n",
    "    for line in lines:\n",
    "        # line = unify_sym(line.strip()) # здесь могла бы быть ваша функция очистки текста\n",
    "        output = process(process_pipeline, text=line)\n",
    "        tagged_line = ' '.join(output)\n",
    "        tagged.append(tagged_line)\n",
    "    #print('Текст обработан')\n",
    "    return '\\n'.join(tagged)"
   ]
  },
  {
   "cell_type": "code",
   "execution_count": 18,
   "metadata": {},
   "outputs": [],
   "source": [
    "text = open(textfile, 'r', encoding='utf-8').read()"
   ]
  },
  {
   "cell_type": "code",
   "execution_count": 19,
   "metadata": {},
   "outputs": [
    {
     "name": "stdout",
     "output_type": "stream",
     "text": [
      "русский_PROPN  соболь_NOUN о::генри_PROPN \n",
      "когда_SCONJ синий_ADJ ночь_NOUN глаз_NOUN молли_VERB мак-кивер_PROPN  класть_VERB малыш::брэди_PROPN  оба_NUM лопатка_NOUN вынужденный_ADJ покидать_VERB ряд_NOUN банда_NOUN дымовый_ADJ труба_NOUN таков_ADJ власть_NOUN нежный_ADJ укор_NOUN подружка_NOUN упрямый_ADJ пристрастие_NOUN порядочность_NOUN если_SC\n",
      "CPU times: user 3.12 s, sys: 12.9 ms, total: 3.13 s\n",
      "Wall time: 3.19 s\n"
     ]
    }
   ],
   "source": [
    "%%time\n",
    "processed_text = tag_ud(text, process_pipeline)\n",
    "print(processed_text[:350])\n",
    "with open('my_text.txt', 'w', encoding='utf-8') as out:\n",
    "    out.write(processed_text)"
   ]
  },
  {
   "cell_type": "code",
   "execution_count": null,
   "metadata": {},
   "outputs": [],
   "source": []
  },
  {
   "cell_type": "markdown",
   "metadata": {},
   "source": [
    "## Предобработка текстовых новостей \n",
    "(Датасет Kggle)"
   ]
  },
  {
   "cell_type": "markdown",
   "metadata": {},
   "source": [
    "Загружаем данные (https://www.kaggle.com/yutkin/corpus-of-russian-news-articles-from-lenta)\n",
    "\n",
    "Корпус новостей с Lenta.Ru\n",
    "\n",
    "Размер: 2 Гб\n",
    "Количество новостей: 800K+\n",
    "Период: Сентябрь 1999 - декабрь 2019"
   ]
  },
  {
   "cell_type": "code",
   "execution_count": 7,
   "metadata": {},
   "outputs": [
    {
     "name": "stderr",
     "output_type": "stream",
     "text": [
      "<decorator-gen-54>:2: DtypeWarning: Columns (3) have mixed types.Specify dtype option on import or set low_memory=False.\n"
     ]
    },
    {
     "name": "stdout",
     "output_type": "stream",
     "text": [
      "CPU times: user 26.4 s, sys: 2.43 s, total: 28.9 s\n",
      "Wall time: 31.2 s\n"
     ]
    }
   ],
   "source": [
    "%%time\n",
    "df = pd.read_csv('lenta-ru-news.csv')\n",
    "df = df.dropna()"
   ]
  },
  {
   "cell_type": "code",
   "execution_count": 8,
   "metadata": {},
   "outputs": [
    {
     "data": {
      "text/html": [
       "<div>\n",
       "<style scoped>\n",
       "    .dataframe tbody tr th:only-of-type {\n",
       "        vertical-align: middle;\n",
       "    }\n",
       "\n",
       "    .dataframe tbody tr th {\n",
       "        vertical-align: top;\n",
       "    }\n",
       "\n",
       "    .dataframe thead th {\n",
       "        text-align: right;\n",
       "    }\n",
       "</style>\n",
       "<table border=\"1\" class=\"dataframe\">\n",
       "  <thead>\n",
       "    <tr style=\"text-align: right;\">\n",
       "      <th></th>\n",
       "      <th>url</th>\n",
       "      <th>title</th>\n",
       "      <th>text</th>\n",
       "      <th>topic</th>\n",
       "      <th>tags</th>\n",
       "      <th>date</th>\n",
       "    </tr>\n",
       "  </thead>\n",
       "  <tbody>\n",
       "    <tr>\n",
       "      <th>0</th>\n",
       "      <td>https://lenta.ru/news/1914/09/16/hungarnn/</td>\n",
       "      <td>1914. Русские войска вступили в пределы Венгрии</td>\n",
       "      <td>Бои у Сопоцкина и Друскеник закончились отступ...</td>\n",
       "      <td>Библиотека</td>\n",
       "      <td>Первая мировая</td>\n",
       "      <td>1914/09/16</td>\n",
       "    </tr>\n",
       "    <tr>\n",
       "      <th>1</th>\n",
       "      <td>https://lenta.ru/news/1914/09/16/lermontov/</td>\n",
       "      <td>1914. Празднование столетия М.Ю. Лермонтова от...</td>\n",
       "      <td>Министерство народного просвещения, в виду про...</td>\n",
       "      <td>Библиотека</td>\n",
       "      <td>Первая мировая</td>\n",
       "      <td>1914/09/16</td>\n",
       "    </tr>\n",
       "    <tr>\n",
       "      <th>2</th>\n",
       "      <td>https://lenta.ru/news/1914/09/17/nesteroff/</td>\n",
       "      <td>1914. Das ist Nesteroff!</td>\n",
       "      <td>Штабс-капитан П. Н. Нестеров на днях, увидев в...</td>\n",
       "      <td>Библиотека</td>\n",
       "      <td>Первая мировая</td>\n",
       "      <td>1914/09/17</td>\n",
       "    </tr>\n",
       "    <tr>\n",
       "      <th>3</th>\n",
       "      <td>https://lenta.ru/news/1914/09/17/bulldogn/</td>\n",
       "      <td>1914. Бульдог-гонец под Льежем</td>\n",
       "      <td>Фотограф-корреспондент Daily Mirror рассказыва...</td>\n",
       "      <td>Библиотека</td>\n",
       "      <td>Первая мировая</td>\n",
       "      <td>1914/09/17</td>\n",
       "    </tr>\n",
       "    <tr>\n",
       "      <th>4</th>\n",
       "      <td>https://lenta.ru/news/1914/09/18/zver/</td>\n",
       "      <td>1914. Под Люблином пойман швабский зверь</td>\n",
       "      <td>Лица, приехавшие в Варшаву из Люблина, передаю...</td>\n",
       "      <td>Библиотека</td>\n",
       "      <td>Первая мировая</td>\n",
       "      <td>1914/09/18</td>\n",
       "    </tr>\n",
       "  </tbody>\n",
       "</table>\n",
       "</div>"
      ],
      "text/plain": [
       "                                           url  \\\n",
       "0   https://lenta.ru/news/1914/09/16/hungarnn/   \n",
       "1  https://lenta.ru/news/1914/09/16/lermontov/   \n",
       "2  https://lenta.ru/news/1914/09/17/nesteroff/   \n",
       "3   https://lenta.ru/news/1914/09/17/bulldogn/   \n",
       "4       https://lenta.ru/news/1914/09/18/zver/   \n",
       "\n",
       "                                               title  \\\n",
       "0  1914. Русские войска вступили в пределы Венгрии     \n",
       "1  1914. Празднование столетия М.Ю. Лермонтова от...   \n",
       "2                           1914. Das ist Nesteroff!   \n",
       "3                    1914. Бульдог-гонец под Льежем    \n",
       "4           1914. Под Люблином пойман швабский зверь   \n",
       "\n",
       "                                                text       topic  \\\n",
       "0  Бои у Сопоцкина и Друскеник закончились отступ...  Библиотека   \n",
       "1  Министерство народного просвещения, в виду про...  Библиотека   \n",
       "2  Штабс-капитан П. Н. Нестеров на днях, увидев в...  Библиотека   \n",
       "3  Фотограф-корреспондент Daily Mirror рассказыва...  Библиотека   \n",
       "4  Лица, приехавшие в Варшаву из Люблина, передаю...  Библиотека   \n",
       "\n",
       "             tags        date  \n",
       "0  Первая мировая  1914/09/16  \n",
       "1  Первая мировая  1914/09/16  \n",
       "2  Первая мировая  1914/09/17  \n",
       "3  Первая мировая  1914/09/17  \n",
       "4  Первая мировая  1914/09/18  "
      ]
     },
     "execution_count": 8,
     "metadata": {},
     "output_type": "execute_result"
    }
   ],
   "source": [
    "df.head()"
   ]
  },
  {
   "cell_type": "code",
   "execution_count": 9,
   "metadata": {},
   "outputs": [
    {
     "name": "stdout",
     "output_type": "stream",
     "text": [
      "<class 'pandas.core.frame.DataFrame'>\n",
      "Int64Index: 712654 entries, 0 to 739175\n",
      "Data columns (total 6 columns):\n",
      " #   Column  Non-Null Count   Dtype \n",
      "---  ------  --------------   ----- \n",
      " 0   url     712654 non-null  object\n",
      " 1   title   712654 non-null  object\n",
      " 2   text    712654 non-null  object\n",
      " 3   topic   712654 non-null  object\n",
      " 4   tags    712654 non-null  object\n",
      " 5   date    712654 non-null  object\n",
      "dtypes: object(6)\n",
      "memory usage: 38.1+ MB\n"
     ]
    }
   ],
   "source": [
    "df.info()"
   ]
  },
  {
   "cell_type": "code",
   "execution_count": 10,
   "metadata": {},
   "outputs": [
    {
     "data": {
      "text/html": [
       "<div>\n",
       "<style scoped>\n",
       "    .dataframe tbody tr th:only-of-type {\n",
       "        vertical-align: middle;\n",
       "    }\n",
       "\n",
       "    .dataframe tbody tr th {\n",
       "        vertical-align: top;\n",
       "    }\n",
       "\n",
       "    .dataframe thead th {\n",
       "        text-align: right;\n",
       "    }\n",
       "</style>\n",
       "<table border=\"1\" class=\"dataframe\">\n",
       "  <thead>\n",
       "    <tr style=\"text-align: right;\">\n",
       "      <th></th>\n",
       "      <th>url</th>\n",
       "      <th>title</th>\n",
       "      <th>text</th>\n",
       "      <th>topic</th>\n",
       "      <th>tags</th>\n",
       "      <th>date</th>\n",
       "    </tr>\n",
       "  </thead>\n",
       "  <tbody>\n",
       "    <tr>\n",
       "      <th>count</th>\n",
       "      <td>712654</td>\n",
       "      <td>712654</td>\n",
       "      <td>712654</td>\n",
       "      <td>712654</td>\n",
       "      <td>712654</td>\n",
       "      <td>712654</td>\n",
       "    </tr>\n",
       "    <tr>\n",
       "      <th>unique</th>\n",
       "      <td>712643</td>\n",
       "      <td>710040</td>\n",
       "      <td>711725</td>\n",
       "      <td>23</td>\n",
       "      <td>88</td>\n",
       "      <td>7029</td>\n",
       "    </tr>\n",
       "    <tr>\n",
       "      <th>top</th>\n",
       "      <td>https://lenta.ru/news/1999/11/18/berezovsky/</td>\n",
       "      <td>В Москве объявлено штормовое предупреждение</td>\n",
       "      <td>РИА \"Новости\"</td>\n",
       "      <td>Россия</td>\n",
       "      <td>Все</td>\n",
       "      <td>2008/12/08</td>\n",
       "    </tr>\n",
       "    <tr>\n",
       "      <th>freq</th>\n",
       "      <td>2</td>\n",
       "      <td>21</td>\n",
       "      <td>291</td>\n",
       "      <td>155004</td>\n",
       "      <td>453581</td>\n",
       "      <td>260</td>\n",
       "    </tr>\n",
       "  </tbody>\n",
       "</table>\n",
       "</div>"
      ],
      "text/plain": [
       "                                                 url  \\\n",
       "count                                         712654   \n",
       "unique                                        712643   \n",
       "top     https://lenta.ru/news/1999/11/18/berezovsky/   \n",
       "freq                                               2   \n",
       "\n",
       "                                              title           text   topic  \\\n",
       "count                                        712654         712654  712654   \n",
       "unique                                       710040         711725      23   \n",
       "top     В Москве объявлено штормовое предупреждение  РИА \"Новости\"  Россия   \n",
       "freq                                             21            291  155004   \n",
       "\n",
       "          tags        date  \n",
       "count   712654      712654  \n",
       "unique      88        7029  \n",
       "top        Все  2008/12/08  \n",
       "freq    453581         260  "
      ]
     },
     "execution_count": 10,
     "metadata": {},
     "output_type": "execute_result"
    }
   ],
   "source": [
    "df.describe()"
   ]
  },
  {
   "cell_type": "code",
   "execution_count": 23,
   "metadata": {},
   "outputs": [
    {
     "name": "stdout",
     "output_type": "stream",
     "text": [
      "1000\n",
      "10000\n",
      "50000\n",
      "100000\n",
      "300000\n",
      "600000\n",
      "Wall time: 7h 5min 59s\n"
     ]
    }
   ],
   "source": [
    "\"\"\"\n",
    "# Преобработка текста производилась частями, для этого использовался данный скрипт\n",
    "%%time\n",
    "for i in range(600000,len(df)):\n",
    "    text = df.iloc[i,2]\n",
    "    processed_text = tag_ud(text, process_pipeline)\n",
    "    df.iloc[i,2]=processed_text\n",
    "    if i==1000:\n",
    "        print('1000')\n",
    "    if i==10000:\n",
    "        print('10000')\n",
    "    if i==50000:\n",
    "        print('50000')\n",
    "    if i==100000:\n",
    "        print('100000')\n",
    "    if i==300000:\n",
    "        print('300000')\n",
    "    if i==600000:\n",
    "        print('600000')\n",
    "\"\"\"    "
   ]
  },
  {
   "cell_type": "code",
   "execution_count": 24,
   "metadata": {},
   "outputs": [],
   "source": [
    "'''\n",
    "#Сохраняем частями\n",
    "\n",
    "df.to_csv('ch_5.csv')\n",
    "'''"
   ]
  },
  {
   "cell_type": "code",
   "execution_count": null,
   "metadata": {},
   "outputs": [],
   "source": []
  },
  {
   "cell_type": "markdown",
   "metadata": {},
   "source": [
    "## Загружаем таблицу с предобработанными новостями"
   ]
  },
  {
   "cell_type": "code",
   "execution_count": 5,
   "metadata": {},
   "outputs": [
    {
     "name": "stdout",
     "output_type": "stream",
     "text": [
      "CPU times: user 29 s, sys: 2.54 s, total: 31.5 s\n",
      "Wall time: 34.8 s\n"
     ]
    }
   ],
   "source": [
    "%%time\n",
    "# Загружаем из базы таблицу с обработанными новостями\n",
    "df = pd.read_csv('good_text_teg.csv')"
   ]
  },
  {
   "cell_type": "code",
   "execution_count": 6,
   "metadata": {},
   "outputs": [
    {
     "data": {
      "text/html": [
       "<div>\n",
       "<style scoped>\n",
       "    .dataframe tbody tr th:only-of-type {\n",
       "        vertical-align: middle;\n",
       "    }\n",
       "\n",
       "    .dataframe tbody tr th {\n",
       "        vertical-align: top;\n",
       "    }\n",
       "\n",
       "    .dataframe thead th {\n",
       "        text-align: right;\n",
       "    }\n",
       "</style>\n",
       "<table border=\"1\" class=\"dataframe\">\n",
       "  <thead>\n",
       "    <tr style=\"text-align: right;\">\n",
       "      <th></th>\n",
       "      <th>url</th>\n",
       "      <th>title</th>\n",
       "      <th>text</th>\n",
       "      <th>topic</th>\n",
       "      <th>tags</th>\n",
       "      <th>date</th>\n",
       "    </tr>\n",
       "  </thead>\n",
       "  <tbody>\n",
       "    <tr>\n",
       "      <th>0</th>\n",
       "      <td>https://lenta.ru/news/1914/09/16/hungarnn/</td>\n",
       "      <td>1914. Русские войска вступили в пределы Венгрии</td>\n",
       "      <td>бой_NOUN сопоцкин_PROPN  друскеник_PROPN закан...</td>\n",
       "      <td>Библиотека</td>\n",
       "      <td>Первая мировая</td>\n",
       "      <td>1914/09/16</td>\n",
       "    </tr>\n",
       "    <tr>\n",
       "      <th>1</th>\n",
       "      <td>https://lenta.ru/news/1914/09/16/lermontov/</td>\n",
       "      <td>1914. Празднование столетия М.Ю. Лермонтова от...</td>\n",
       "      <td>министерство_PROPN  народный_ADJ просвещение_N...</td>\n",
       "      <td>Библиотека</td>\n",
       "      <td>Первая мировая</td>\n",
       "      <td>1914/09/16</td>\n",
       "    </tr>\n",
       "    <tr>\n",
       "      <th>2</th>\n",
       "      <td>https://lenta.ru/news/1914/09/17/nesteroff/</td>\n",
       "      <td>1914. Das ist Nesteroff!</td>\n",
       "      <td>штабс-капитан_NOUN п::н::нестеров_PROPN  день_...</td>\n",
       "      <td>Библиотека</td>\n",
       "      <td>Первая мировая</td>\n",
       "      <td>1914/09/17</td>\n",
       "    </tr>\n",
       "    <tr>\n",
       "      <th>3</th>\n",
       "      <td>https://lenta.ru/news/1914/09/17/bulldogn/</td>\n",
       "      <td>1914. Бульдог-гонец под Льежем</td>\n",
       "      <td>фотограф-корреспондент_NOUN daily_PROPN mirror...</td>\n",
       "      <td>Библиотека</td>\n",
       "      <td>Первая мировая</td>\n",
       "      <td>1914/09/17</td>\n",
       "    </tr>\n",
       "    <tr>\n",
       "      <th>4</th>\n",
       "      <td>https://lenta.ru/news/1914/09/18/zver/</td>\n",
       "      <td>1914. Под Люблином пойман швабский зверь</td>\n",
       "      <td>лицо_NOUN приезжать_VERB варшава_NOUN люблин_P...</td>\n",
       "      <td>Библиотека</td>\n",
       "      <td>Первая мировая</td>\n",
       "      <td>1914/09/18</td>\n",
       "    </tr>\n",
       "  </tbody>\n",
       "</table>\n",
       "</div>"
      ],
      "text/plain": [
       "                                           url  \\\n",
       "0   https://lenta.ru/news/1914/09/16/hungarnn/   \n",
       "1  https://lenta.ru/news/1914/09/16/lermontov/   \n",
       "2  https://lenta.ru/news/1914/09/17/nesteroff/   \n",
       "3   https://lenta.ru/news/1914/09/17/bulldogn/   \n",
       "4       https://lenta.ru/news/1914/09/18/zver/   \n",
       "\n",
       "                                               title  \\\n",
       "0  1914. Русские войска вступили в пределы Венгрии     \n",
       "1  1914. Празднование столетия М.Ю. Лермонтова от...   \n",
       "2                           1914. Das ist Nesteroff!   \n",
       "3                    1914. Бульдог-гонец под Льежем    \n",
       "4           1914. Под Люблином пойман швабский зверь   \n",
       "\n",
       "                                                text       topic  \\\n",
       "0  бой_NOUN сопоцкин_PROPN  друскеник_PROPN закан...  Библиотека   \n",
       "1  министерство_PROPN  народный_ADJ просвещение_N...  Библиотека   \n",
       "2  штабс-капитан_NOUN п::н::нестеров_PROPN  день_...  Библиотека   \n",
       "3  фотограф-корреспондент_NOUN daily_PROPN mirror...  Библиотека   \n",
       "4  лицо_NOUN приезжать_VERB варшава_NOUN люблин_P...  Библиотека   \n",
       "\n",
       "             tags        date  \n",
       "0  Первая мировая  1914/09/16  \n",
       "1  Первая мировая  1914/09/16  \n",
       "2  Первая мировая  1914/09/17  \n",
       "3  Первая мировая  1914/09/17  \n",
       "4  Первая мировая  1914/09/18  "
      ]
     },
     "execution_count": 6,
     "metadata": {},
     "output_type": "execute_result"
    }
   ],
   "source": [
    "df.head()"
   ]
  },
  {
   "cell_type": "code",
   "execution_count": 7,
   "metadata": {
    "scrolled": true
   },
   "outputs": [
    {
     "name": "stdout",
     "output_type": "stream",
     "text": [
      "<class 'pandas.core.frame.DataFrame'>\n",
      "RangeIndex: 712654 entries, 0 to 712653\n",
      "Data columns (total 6 columns):\n",
      " #   Column  Non-Null Count   Dtype \n",
      "---  ------  --------------   ----- \n",
      " 0   url     712654 non-null  object\n",
      " 1   title   712654 non-null  object\n",
      " 2   text    712654 non-null  object\n",
      " 3   topic   712654 non-null  object\n",
      " 4   tags    712654 non-null  object\n",
      " 5   date    712654 non-null  object\n",
      "dtypes: object(6)\n",
      "memory usage: 32.6+ MB\n"
     ]
    }
   ],
   "source": [
    "df.info()"
   ]
  },
  {
   "cell_type": "code",
   "execution_count": 8,
   "metadata": {
    "scrolled": true
   },
   "outputs": [
    {
     "data": {
      "text/html": [
       "<div>\n",
       "<style scoped>\n",
       "    .dataframe tbody tr th:only-of-type {\n",
       "        vertical-align: middle;\n",
       "    }\n",
       "\n",
       "    .dataframe tbody tr th {\n",
       "        vertical-align: top;\n",
       "    }\n",
       "\n",
       "    .dataframe thead th {\n",
       "        text-align: right;\n",
       "    }\n",
       "</style>\n",
       "<table border=\"1\" class=\"dataframe\">\n",
       "  <thead>\n",
       "    <tr style=\"text-align: right;\">\n",
       "      <th></th>\n",
       "      <th>url</th>\n",
       "      <th>title</th>\n",
       "      <th>text</th>\n",
       "      <th>topic</th>\n",
       "      <th>tags</th>\n",
       "      <th>date</th>\n",
       "    </tr>\n",
       "  </thead>\n",
       "  <tbody>\n",
       "    <tr>\n",
       "      <th>count</th>\n",
       "      <td>712654</td>\n",
       "      <td>712654</td>\n",
       "      <td>712654</td>\n",
       "      <td>712654</td>\n",
       "      <td>712654</td>\n",
       "      <td>712654</td>\n",
       "    </tr>\n",
       "    <tr>\n",
       "      <th>unique</th>\n",
       "      <td>712643</td>\n",
       "      <td>710040</td>\n",
       "      <td>711658</td>\n",
       "      <td>23</td>\n",
       "      <td>88</td>\n",
       "      <td>7029</td>\n",
       "    </tr>\n",
       "    <tr>\n",
       "      <th>top</th>\n",
       "      <td>https://lenta.ru/news/2001/06/28/milosevic/</td>\n",
       "      <td>В Москве объявлено штормовое предупреждение</td>\n",
       "      <td>риа_PROPN  новость_PROPN</td>\n",
       "      <td>Россия</td>\n",
       "      <td>Все</td>\n",
       "      <td>2008/12/08</td>\n",
       "    </tr>\n",
       "    <tr>\n",
       "      <th>freq</th>\n",
       "      <td>2</td>\n",
       "      <td>21</td>\n",
       "      <td>291</td>\n",
       "      <td>155004</td>\n",
       "      <td>453581</td>\n",
       "      <td>260</td>\n",
       "    </tr>\n",
       "  </tbody>\n",
       "</table>\n",
       "</div>"
      ],
      "text/plain": [
       "                                                url  \\\n",
       "count                                        712654   \n",
       "unique                                       712643   \n",
       "top     https://lenta.ru/news/2001/06/28/milosevic/   \n",
       "freq                                              2   \n",
       "\n",
       "                                              title  \\\n",
       "count                                        712654   \n",
       "unique                                       710040   \n",
       "top     В Москве объявлено штормовое предупреждение   \n",
       "freq                                             21   \n",
       "\n",
       "                             text   topic    tags        date  \n",
       "count                      712654  712654  712654      712654  \n",
       "unique                     711658      23      88        7029  \n",
       "top     риа_PROPN  новость_PROPN   Россия     Все  2008/12/08  \n",
       "freq                          291  155004  453581         260  "
      ]
     },
     "execution_count": 8,
     "metadata": {},
     "output_type": "execute_result"
    }
   ],
   "source": [
    "df.describe()"
   ]
  },
  {
   "cell_type": "code",
   "execution_count": 9,
   "metadata": {
    "scrolled": false
   },
   "outputs": [
    {
     "data": {
      "text/plain": [
       "array(['Библиотека', 'Россия', 'Мир', 'Экономика', 'Интернет и СМИ',\n",
       "       'Спорт', 'Культура', 'Из жизни', 'Наука и техника', 'Бывший СССР',\n",
       "       'Дом', 'Сочи', 'ЧМ-2014', 'Путешествия', 'Силовые структуры',\n",
       "       'Ценности', 'Легпром', 'Бизнес', 'МедНовости', 'Оружие',\n",
       "       '69-я параллель', 'Культпросвет ', 'Крым'], dtype=object)"
      ]
     },
     "execution_count": 9,
     "metadata": {},
     "output_type": "execute_result"
    }
   ],
   "source": [
    "df.topic.unique()"
   ]
  },
  {
   "cell_type": "code",
   "execution_count": 10,
   "metadata": {
    "scrolled": false
   },
   "outputs": [
    {
     "data": {
      "text/plain": [
       "topic\n",
       "69-я параллель         1268\n",
       "Библиотека               65\n",
       "Бизнес                 7375\n",
       "Бывший СССР           51370\n",
       "Дом                   21734\n",
       "Из жизни              27513\n",
       "Интернет и СМИ        44421\n",
       "Крым                    666\n",
       "Культпросвет            340\n",
       "Культура              53530\n",
       "Легпром                 114\n",
       "МедНовости                1\n",
       "Мир                  136620\n",
       "Наука и техника       53136\n",
       "Оружие                    3\n",
       "Путешествия            6370\n",
       "Россия               155004\n",
       "Силовые структуры     11223\n",
       "Сочи                      1\n",
       "Спорт                 57894\n",
       "Ценности               7581\n",
       "ЧМ-2014                   2\n",
       "Экономика             76423\n",
       "dtype: int64"
      ]
     },
     "execution_count": 10,
     "metadata": {},
     "output_type": "execute_result"
    }
   ],
   "source": [
    "# Распределение новостей по топикам\n",
    "df.groupby(['topic']).size()"
   ]
  },
  {
   "cell_type": "code",
   "execution_count": 11,
   "metadata": {
    "scrolled": true
   },
   "outputs": [
    {
     "name": "stdout",
     "output_type": "stream",
     "text": [
      "topic\n",
      "Библиотека        65\n",
      "Крым             666\n",
      "Культпросвет     340\n",
      "Легпром          114\n",
      "МедНовости         1\n",
      "Оружие             3\n",
      "Сочи               1\n",
      "ЧМ-2014            2\n",
      "dtype: int64\n"
     ]
    }
   ],
   "source": [
    "# Выведем те классы в которых содержится менее 1000 новостей \n",
    "m = df.groupby(['topic']).size()\n",
    "print(m[m<1000])"
   ]
  },
  {
   "cell_type": "code",
   "execution_count": 12,
   "metadata": {},
   "outputs": [],
   "source": [
    "# Присоединим маленькие классы к большим\n",
    "df.loc[(df['topic'] == 'Библиотека'), 'topic'] = 'Интернет и СМИ'\n",
    "df.loc[(df['topic'] == 'Крым'), 'topic'] = 'Россия'\n",
    "df.loc[(df['topic'] == 'Культпросвет '), 'topic'] = 'Культура'\n",
    "df.loc[(df['topic'] == 'Легпром'), 'topic'] = 'Бизнес'\n",
    "df.loc[(df['topic'] == 'МедНовости'), 'topic'] = 'Из жизни'\n",
    "df.loc[(df['topic'] == 'Оружие'), 'topic'] = 'Силовые структуры'\n",
    "df.loc[(df['topic'] == 'Сочи'), 'topic'] = 'Россия'\n",
    "df.loc[(df['topic'] == 'ЧМ-2014'), 'topic'] = 'Спорт'"
   ]
  },
  {
   "cell_type": "code",
   "execution_count": 13,
   "metadata": {
    "scrolled": true
   },
   "outputs": [
    {
     "data": {
      "text/plain": [
       "topic\n",
       "69-я параллель         1268\n",
       "Бизнес                 7489\n",
       "Бывший СССР           51370\n",
       "Дом                   21734\n",
       "Из жизни              27514\n",
       "Интернет и СМИ        44486\n",
       "Культура              53870\n",
       "Мир                  136620\n",
       "Наука и техника       53136\n",
       "Путешествия            6370\n",
       "Россия               155671\n",
       "Силовые структуры     11226\n",
       "Спорт                 57896\n",
       "Ценности               7581\n",
       "Экономика             76423\n",
       "dtype: int64"
      ]
     },
     "execution_count": 13,
     "metadata": {},
     "output_type": "execute_result"
    }
   ],
   "source": [
    "# Получаем, распределение новостей по топикам\n",
    "df.groupby(['topic']).size()"
   ]
  },
  {
   "cell_type": "code",
   "execution_count": 14,
   "metadata": {},
   "outputs": [
    {
     "data": {
      "image/png": "[encoded data removed]",
      "text/plain": [
       "<Figure size 1440x576 with 1 Axes>"
      ]
     },
     "metadata": {
      "needs_background": "light"
     },
     "output_type": "display_data"
    }
   ],
   "source": [
    "h = df.topic.hist(figsize = (20,8), bins = 50)"
   ]
  },
  {
   "cell_type": "code",
   "execution_count": 15,
   "metadata": {},
   "outputs": [],
   "source": [
    "#Возьмем 10% реперзентативной выборки для удобной работы. \n",
    "ta, small_df = train_test_split(df, test_size=0.1, random_state=42)"
   ]
  },
  {
   "cell_type": "code",
   "execution_count": 16,
   "metadata": {
    "scrolled": true
   },
   "outputs": [
    {
     "data": {
      "text/plain": [
       "topic\n",
       "69-я параллель         113\n",
       "Бизнес                 753\n",
       "Бывший СССР           5170\n",
       "Дом                   2153\n",
       "Из жизни              2759\n",
       "Интернет и СМИ        4468\n",
       "Культура              5405\n",
       "Мир                  13718\n",
       "Наука и техника       5250\n",
       "Путешествия            645\n",
       "Россия               15500\n",
       "Силовые структуры     1085\n",
       "Спорт                 5894\n",
       "Ценности               745\n",
       "Экономика             7608\n",
       "dtype: int64"
      ]
     },
     "execution_count": 16,
     "metadata": {},
     "output_type": "execute_result"
    }
   ],
   "source": [
    "# Распределение новостей по топикам для выборки\n",
    "small_df.groupby(['topic']).size()"
   ]
  },
  {
   "cell_type": "code",
   "execution_count": 17,
   "metadata": {
    "scrolled": true
   },
   "outputs": [
    {
     "data": {
      "image/png": "[encoded data removed]",
      "text/plain": [
       "<Figure size 1440x576 with 1 Axes>"
      ]
     },
     "metadata": {
      "needs_background": "light"
     },
     "output_type": "display_data"
    }
   ],
   "source": [
    "h = small_df.topic.hist(figsize = (20,8), bins = 50)"
   ]
  },
  {
   "cell_type": "markdown",
   "metadata": {},
   "source": [
    "## Работа с моделью w2v, преобразование текстовых новостей в средний вектор"
   ]
  },
  {
   "cell_type": "code",
   "execution_count": 18,
   "metadata": {},
   "outputs": [],
   "source": [
    "import zipfile"
   ]
  },
  {
   "cell_type": "code",
   "execution_count": 19,
   "metadata": {},
   "outputs": [],
   "source": [
    "# Необходимо скачать обученный корпус для представления слов в виде векторов,\n",
    "# Делается только первый раз, далее всё загружаем из папки проекта\n",
    "\n",
    "model_url = 'http://vectors.nlpl.eu/repository/20/184.zip'\n",
    "#m = wget.download(model_url)"
   ]
  },
  {
   "cell_type": "code",
   "execution_count": 20,
   "metadata": {
    "scrolled": true
   },
   "outputs": [
    {
     "name": "stdout",
     "output_type": "stream",
     "text": [
      "True\n"
     ]
    }
   ],
   "source": [
    "# Проверяем наличие файлa в нашей папке проекта True-есть, False-отсутствуют\n",
    "\n",
    "print(os.path.isfile('184.zip'))"
   ]
  },
  {
   "cell_type": "code",
   "execution_count": 21,
   "metadata": {},
   "outputs": [],
   "source": [
    "# Корпус обученный на рускоязычных новостях\n",
    "\n",
    "# model_file = '184.zip'"
   ]
  },
  {
   "cell_type": "code",
   "execution_count": 22,
   "metadata": {
    "scrolled": false
   },
   "outputs": [
    {
     "name": "stderr",
     "output_type": "stream",
     "text": [
      "2020-11-29 13:54:11,796 : INFO : loading projection weights from <zipfile.ZipExtFile name='model.bin' mode='r' compress_type=deflate>\n",
      "2020-11-29 13:54:18,488 : INFO : loaded (249318, 300) matrix from <zipfile.ZipExtFile [closed]>\n"
     ]
    }
   ],
   "source": [
    "model_file = model_url.split('/')[-1]\n",
    "with zipfile.ZipFile(model_file, 'r') as archive:\n",
    "    stream = archive.open('model.bin')\n",
    "    model = gensim.models.KeyedVectors.load_word2vec_format(stream, binary=True)"
   ]
  },
  {
   "cell_type": "code",
   "execution_count": 23,
   "metadata": {},
   "outputs": [],
   "source": [
    "wv = model"
   ]
  },
  {
   "cell_type": "code",
   "execution_count": 24,
   "metadata": {},
   "outputs": [],
   "source": [
    "#Разделим нашу таблицу на обучение и тест\n",
    "train_data, test_data = train_test_split(small_df, test_size=0.1, random_state=42)"
   ]
  },
  {
   "cell_type": "code",
   "execution_count": 25,
   "metadata": {},
   "outputs": [],
   "source": [
    "def word_averaging(wv, words):\n",
    "    ''' Функция, Из \"текста новости в вектор\" '''\n",
    "    words=words.split( )\n",
    "    mean = []\n",
    "    for word in words: \n",
    "        if isinstance(word, np.ndarray): # isinstance(a,type) функция возвращает True, если переменная a типа type\n",
    "            mean.append(word) # Добавить в word в конец переменой mean\n",
    "        elif word in wv.vocab: # wv.vocab-это словарь обученной модели w2v , где каждому слово_teg ставится в соответствии вектор \n",
    "            mean.append(wv.word_vec(word, use_norm = False))\n",
    "\n",
    "    if not mean:\n",
    "        logging.warning(\"cannot compute similarity with no input %s\", words) \n",
    "        # FIXME: remove these examples in pre-processing\n",
    "        #return np.zeros(wv.layer1_size,)\n",
    "        return np.zeros(wv.vector_size,) # Одномерный нулевой массив, размерность которого - размерность вектора модели W2V \n",
    "    mean = gensim.matutils.unitvec(np.array(mean).mean(axis=0)).astype(np.float32) # Берём средний вектор и затем нормализуем и приводим к типу флот32\n",
    "    return mean\n",
    "\n",
    "def  word_averaging_list(wv, text_list):\n",
    "    return np.vstack([word_averaging(wv, review) for review in text_list])"
   ]
  },
  {
   "cell_type": "code",
   "execution_count": 26,
   "metadata": {
    "scrolled": true
   },
   "outputs": [
    {
     "name": "stderr",
     "output_type": "stream",
     "text": [
      "2020-11-29 13:54:33,801 : WARNING : cannot compute similarity with no input ['news24.com_X']\n",
      "2020-11-29 13:54:37,698 : WARNING : cannot compute similarity with no input ['defensetech_PROPN']\n",
      "2020-11-29 13:54:53,779 : WARNING : cannot compute similarity with no input ['.redirectto_PROPN']\n",
      "2020-11-29 13:54:53,859 : WARNING : cannot compute similarity with no input ['dw-world_PROPN']\n"
     ]
    },
    {
     "name": "stdout",
     "output_type": "stream",
     "text": [
      "CPU times: user 36.8 s, sys: 143 ms, total: 36.9 s\n",
      "Wall time: 37.1 s\n"
     ]
    }
   ],
   "source": [
    "%%time\n",
    "X_train_word_average = word_averaging_list(wv,train_data.text)\n",
    "X_test_word_average = word_averaging_list(wv,test_data.text)"
   ]
  },
  {
   "cell_type": "code",
   "execution_count": null,
   "metadata": {},
   "outputs": [],
   "source": []
  },
  {
   "cell_type": "markdown",
   "metadata": {},
   "source": [
    "## 1. Метод KNN"
   ]
  },
  {
   "cell_type": "markdown",
   "metadata": {},
   "source": [
    "Для классификации каждого из объектов тестовой выборки необходимо последовательно выполнить следующие операции:\n",
    "\n",
    " 1) Вычислить расстояние до каждого из объектов обучающей выборки\n",
    " \n",
    " 2) Отобрать $k$ объектов обучающей выборки, расстояние до которых минимально\n",
    " \n",
    " 3) Класс классифицируемого объекта — это класс, наиболее часто встречающийся среди $k$ ближайших соседей"
   ]
  },
  {
   "cell_type": "markdown",
   "metadata": {},
   "source": [
    "Качество классификации методом ближайших соседей зависит от нескольких параметров:\n",
    "\n",
    "1) число соседей\n",
    "\n",
    "2) метрика расстояния между объектами (часто используются метрика Хэмминга, евклидово расстояние, косинусное расстояние и расстояние Минковского). Отметим, что при использовании большинства метрик значения признаков надо масштабировать. Условно говоря, чтобы признак \"Зарплата\" с диапазоном значений до 100 тысяч не вносил больший вклад в расстояние, чем \"Возраст\" со значениями до 100.\n",
    "\n",
    "3) веса соседей (соседи тестового примера могут входить с разными весами, например, чем дальше пример, тем с меньшим коэффициентом учитывается его \"голос\")"
   ]
  },
  {
   "cell_type": "markdown",
   "metadata": {},
   "source": [
    "###### Выбор параметров модели и кросс-валидация"
   ]
  },
  {
   "cell_type": "markdown",
   "metadata": {},
   "source": [
    "Главная задача обучаемых алгоритмов – их способность обобщаться, то есть хорошо работать на новых данных. Поскольку, на новых данных мы сразу не можем проверить качество построенной модели (нам ведь надо для них сделать прогноз, то есть истинных значений целевого признака мы для них не знаем), то надо пожертвовать небольшой порцией данных, чтоб на ней проверить качество модели.\n",
    "\n",
    "Чаще всего это делается одним из 2 способов:\n",
    "\n",
    "1) отложенная выборка (held-out/hold-out set). При таком подходе мы оставляем какую-то долю обучающей выборки (как правило от 20% до 40%), обучаем модель на остальных данных (60-80% исходной выборки) и считаем некоторую метрику качества модели (например, самое простое – долю правильных ответов в задаче классификации) на отложенной выборке.\n",
    "\n",
    "2) кросс-валидация (cross-validation, на русский еще переводят как скользящий или перекрестный контроль). Тут самый частый случай – K-fold кросс-валидация"
   ]
  },
  {
   "attachments": {
    "image.png": {
     "image/png": "[encoded data removed]"
    }
   },
   "cell_type": "markdown",
   "metadata": {},
   "source": [
    "![image.png](attachment:image.png)"
   ]
  },
  {
   "cell_type": "markdown",
   "metadata": {},
   "source": [
    "Тут модель обучается K раз на разных $(K-1)$ подвыборках исходной выборки (белый цвет), а проверяется на одной подвыборке (каждый раз на разной, оранжевый цвет). Получаются $K$ оценок качества модели, которые обычно усредняются, выдавая среднюю оценку качества классификации/регресии на кросс-валидации.\n",
    "\n",
    "Кросс-валидация дает лучшую по сравнению отложенной выборкой оценку качества модели на новых данных. Но кросс-валидация вычислительно дорогостоящая, если данных много.\n",
    "\n",
    "Кросс-валидация – очень важная техника в машинном обучении (применяемая также в статистике и эконометрике), с ее помощью выбираются гиперпараметры моделей, сравниваются модели между собой, оценивается полезность новых признаков в задаче и т.д."
   ]
  },
  {
   "cell_type": "markdown",
   "metadata": {},
   "source": [
    "#### 1.1 Выбор оптимальных параметров"
   ]
  },
  {
   "cell_type": "markdown",
   "metadata": {},
   "source": [
    "Т.к. Для поиска близости векторов наилучшим образом подойдёт \"косиново расстояние\" "
   ]
  },
  {
   "cell_type": "code",
   "execution_count": 25,
   "metadata": {},
   "outputs": [],
   "source": [
    "from sklearn.neighbors import KNeighborsClassifier\n",
    "import sklearn.metrics "
   ]
  },
  {
   "cell_type": "code",
   "execution_count": 44,
   "metadata": {},
   "outputs": [],
   "source": [
    "knn_naive_dv = KNeighborsClassifier(n_jobs=-1, algorithm='brute', metric='cosine')"
   ]
  },
  {
   "cell_type": "markdown",
   "metadata": {},
   "source": [
    "Т.к. Найдём оптимальное число ближайших соседей для выборки наших данных с помощью GridSearchCV()"
   ]
  },
  {
   "cell_type": "code",
   "execution_count": 113,
   "metadata": {},
   "outputs": [],
   "source": [
    "from sklearn.model_selection import GridSearchCV"
   ]
  },
  {
   "cell_type": "code",
   "execution_count": 114,
   "metadata": {},
   "outputs": [],
   "source": [
    "# Найдём наилучшее значение Ф-меры модели, при различных k = [5, 10, 15, 20, 30, 40, 50]\n",
    "knn_params = {'n_neighbors': [5, 10, 15, 20, 30, 40, 50]}"
   ]
  },
  {
   "cell_type": "code",
   "execution_count": 115,
   "metadata": {},
   "outputs": [
    {
     "name": "stdout",
     "output_type": "stream",
     "text": [
      "Wall time: 0 ns\n"
     ]
    }
   ],
   "source": [
    "%%time\n",
    "knn_grid = GridSearchCV(knn_naive_dv, knn_params, scoring='f1_micro', n_jobs=-1)"
   ]
  },
  {
   "cell_type": "code",
   "execution_count": 116,
   "metadata": {},
   "outputs": [
    {
     "name": "stdout",
     "output_type": "stream",
     "text": [
      "Wall time: 43min 57s\n"
     ]
    },
    {
     "data": {
      "text/plain": [
       "GridSearchCV(cv=None, error_score=nan,\n",
       "             estimator=KNeighborsClassifier(algorithm='brute', leaf_size=30,\n",
       "                                            metric='cosine', metric_params=None,\n",
       "                                            n_jobs=-1, n_neighbors=5, p=2,\n",
       "                                            weights='uniform'),\n",
       "             iid='deprecated', n_jobs=-1,\n",
       "             param_grid={'n_neighbors': [5, 10, 15, 20, 30, 40, 50]},\n",
       "             pre_dispatch='2*n_jobs', refit=True, return_train_score=False,\n",
       "             scoring='f1_micro', verbose=0)"
      ]
     },
     "execution_count": 116,
     "metadata": {},
     "output_type": "execute_result"
    }
   ],
   "source": [
    "%%time\n",
    "knn_grid.fit(X_train_word_average, train_data.topic)"
   ]
  },
  {
   "cell_type": "code",
   "execution_count": 117,
   "metadata": {
    "scrolled": true
   },
   "outputs": [
    {
     "data": {
      "text/plain": [
       "(0.7829401357524879, {'n_neighbors': 15})"
      ]
     },
     "execution_count": 117,
     "metadata": {},
     "output_type": "execute_result"
    }
   ],
   "source": [
    "# Вывод наилучшего значения Ф-меры и значения числа соседей для данной модели\n",
    "knn_grid.best_score_, knn_grid.best_params_"
   ]
  },
  {
   "cell_type": "code",
   "execution_count": 128,
   "metadata": {},
   "outputs": [
    {
     "name": "stdout",
     "output_type": "stream",
     "text": [
      "0.7753 for {'n_neighbors': 5}\n",
      "0.7826 for {'n_neighbors': 10}\n",
      "0.7829 for {'n_neighbors': 15}\n",
      "0.7818 for {'n_neighbors': 20}\n",
      "0.7788 for {'n_neighbors': 30}\n",
      "0.7765 for {'n_neighbors': 40}\n",
      "0.7738 for {'n_neighbors': 50}\n"
     ]
    }
   ],
   "source": [
    "# Построение сетки значений Ф-меры для различного числа ближайших соседей \n",
    "means = knn_grid.cv_results_['mean_test_score']\n",
    "for mean, params in zip(means, knn_grid.cv_results_['params']):\n",
    "    print(\"%0.4f for %r\" % (mean, params))"
   ]
  },
  {
   "cell_type": "code",
   "execution_count": null,
   "metadata": {},
   "outputs": [],
   "source": []
  },
  {
   "cell_type": "markdown",
   "metadata": {},
   "source": [
    "###### Вывод:"
   ]
  },
  {
   "cell_type": "markdown",
   "metadata": {},
   "source": [
    "Наибольшее значение Ф-мера принимает при числе соседий от 10 до 20"
   ]
  },
  {
   "cell_type": "code",
   "execution_count": 163,
   "metadata": {},
   "outputs": [],
   "source": [
    "knn_naive_dv = KNeighborsClassifier(n_jobs=-1, metric='cosine')"
   ]
  },
  {
   "cell_type": "code",
   "execution_count": 164,
   "metadata": {},
   "outputs": [],
   "source": [
    "# Найдём наилучшее значение Ф-меры модели, при различных k = [12, 13, 14, 15, 16, 17, 18]\n",
    "knn_params = {'n_neighbors': [12, 13, 14, 15, 16, 17, 18]}"
   ]
  },
  {
   "cell_type": "code",
   "execution_count": 165,
   "metadata": {},
   "outputs": [
    {
     "name": "stdout",
     "output_type": "stream",
     "text": [
      "Wall time: 0 ns\n"
     ]
    }
   ],
   "source": [
    "%%time\n",
    "knn_grid = GridSearchCV(knn_naive_dv, knn_params, scoring='f1_micro', n_jobs=-1)"
   ]
  },
  {
   "cell_type": "code",
   "execution_count": 166,
   "metadata": {},
   "outputs": [
    {
     "name": "stdout",
     "output_type": "stream",
     "text": [
      "Wall time: 43min 13s\n"
     ]
    },
    {
     "data": {
      "text/plain": [
       "GridSearchCV(cv=None, error_score=nan,\n",
       "             estimator=KNeighborsClassifier(algorithm='auto', leaf_size=30,\n",
       "                                            metric='cosine', metric_params=None,\n",
       "                                            n_jobs=-1, n_neighbors=5, p=2,\n",
       "                                            weights='uniform'),\n",
       "             iid='deprecated', n_jobs=-1,\n",
       "             param_grid={'n_neighbors': [12, 13, 14, 15, 16, 17, 18]},\n",
       "             pre_dispatch='2*n_jobs', refit=True, return_train_score=False,\n",
       "             scoring='f1_micro', verbose=0)"
      ]
     },
     "execution_count": 166,
     "metadata": {},
     "output_type": "execute_result"
    }
   ],
   "source": [
    "%%time\n",
    "knn_grid.fit(X_train_word_average, train_data.topic)"
   ]
  },
  {
   "cell_type": "code",
   "execution_count": 167,
   "metadata": {
    "scrolled": true
   },
   "outputs": [
    {
     "data": {
      "text/plain": [
       "(0.7832207669991015, {'n_neighbors': 16})"
      ]
     },
     "execution_count": 167,
     "metadata": {},
     "output_type": "execute_result"
    }
   ],
   "source": [
    "# Вывод наилучшего значения Ф-меры и значения числа соседей для данной модели\n",
    "knn_grid.best_score_, knn_grid.best_params_"
   ]
  },
  {
   "cell_type": "code",
   "execution_count": 168,
   "metadata": {},
   "outputs": [
    {
     "name": "stdout",
     "output_type": "stream",
     "text": [
      "0.7824 for {'n_neighbors': 12}\n",
      "0.7825 for {'n_neighbors': 13}\n",
      "0.7829 for {'n_neighbors': 14}\n",
      "0.7829 for {'n_neighbors': 15}\n",
      "0.7832 for {'n_neighbors': 16}\n",
      "0.7825 for {'n_neighbors': 17}\n",
      "0.7827 for {'n_neighbors': 18}\n"
     ]
    }
   ],
   "source": [
    "# Построение сетки значений Ф-меры для различного числа ближайших соседей \n",
    "means = knn_grid.cv_results_['mean_test_score']\n",
    "for mean, params in zip(means, knn_grid.cv_results_['params']):\n",
    "    print(\"%0.4f for %r\" % (mean, params))"
   ]
  },
  {
   "cell_type": "markdown",
   "metadata": {},
   "source": [
    "###### Вывод:"
   ]
  },
  {
   "cell_type": "markdown",
   "metadata": {},
   "source": [
    "Наибольшее значение Ф-мера принимает при 16 числе соседий. Оптимальные параметры числа соседей подобраны."
   ]
  },
  {
   "cell_type": "code",
   "execution_count": null,
   "metadata": {},
   "outputs": [],
   "source": []
  },
  {
   "cell_type": "markdown",
   "metadata": {},
   "source": [
    "#### Для всего датасета df"
   ]
  },
  {
   "cell_type": "code",
   "execution_count": 178,
   "metadata": {},
   "outputs": [],
   "source": [
    "#Разделим нашу таблицу на обучение и тест \n",
    "train_data, test_data = train_test_split(df, test_size=0.1, random_state=42)"
   ]
  },
  {
   "cell_type": "code",
   "execution_count": 179,
   "metadata": {},
   "outputs": [
    {
     "name": "stderr",
     "output_type": "stream",
     "text": [
      "2020-11-09 02:07:20,316 : WARNING : cannot compute similarity with no input ['.redirectto_PROPN']\n",
      "2020-11-09 02:07:55,423 : WARNING : cannot compute similarity with no input ['жозефина-шарлотт_NOUN']\n",
      "2020-11-09 02:07:58,259 : WARNING : cannot compute similarity with no input ['.redirectto_PROPN']\n",
      "2020-11-09 02:08:59,242 : WARNING : cannot compute similarity with no input ['вттво_ADJ', '-омск_PROPN', 'xxxx_NUM']\n",
      "2020-11-09 02:09:45,710 : WARNING : cannot compute similarity with no input ['каден_ADJ']\n",
      "2020-11-09 02:10:35,796 : WARNING : cannot compute similarity with no input ['.redirectto_PROPN']\n",
      "2020-11-09 02:10:38,140 : WARNING : cannot compute similarity with no input ['тунгуска-м1_NUM']\n",
      "2020-11-09 02:11:13,732 : WARNING : cannot compute similarity with no input ['scotsman.com_NOUN']\n",
      "2020-11-09 02:12:02,100 : WARNING : cannot compute similarity with no input ['кабар_NOUN']\n",
      "2020-11-09 02:12:49,005 : WARNING : cannot compute similarity with no input ['хорайзон_PART']\n",
      "2020-11-09 02:13:38,925 : WARNING : cannot compute similarity with no input ['frog-7_NUM']\n",
      "2020-11-09 02:13:39,222 : WARNING : cannot compute similarity with no input ['samba_PROPN']\n",
      "2020-11-09 02:14:08,091 : WARNING : cannot compute similarity with no input ['вттво_ADJ', '-омск_PROPN', 'xxxx_NUM']\n",
      "2020-11-09 02:14:24,213 : WARNING : cannot compute similarity with no input ['.redirectto_PROPN']\n",
      "2020-11-09 02:14:29,480 : WARNING : cannot compute similarity with no input ['president.kremlin.ru_NOUN']\n",
      "2020-11-09 02:14:43,980 : WARNING : cannot compute similarity with no input ['x_NUM', '43a_PROPN']\n",
      "2020-11-09 02:14:54,539 : WARNING : cannot compute similarity with no input ['.redirectto_PROPN']\n",
      "2020-11-09 02:15:02,718 : WARNING : cannot compute similarity with no input ['альфред::вегенер_PROPN']\n",
      "2020-11-09 02:15:02,934 : WARNING : cannot compute similarity with no input ['.redirectto_PROPN']\n",
      "2020-11-09 02:15:12,319 : WARNING : cannot compute similarity with no input ['феско::вояджер_PROPN']\n",
      "2020-11-09 02:15:48,082 : WARNING : cannot compute similarity with no input ['airtanker_PROPN']\n",
      "2020-11-09 02:15:51,308 : WARNING : cannot compute similarity with no input ['elmendorf_PROPN', 'afb_PROPN']\n",
      "2020-11-09 02:15:56,771 : WARNING : cannot compute similarity with no input ['wtnh.com_PROPN']\n",
      "2020-11-09 02:16:11,638 : WARNING : cannot compute similarity with no input ['payvand.com_PROPN']\n",
      "2020-11-09 02:16:34,350 : WARNING : cannot compute similarity with no input ['.redirectto_PROPN']\n",
      "2020-11-09 02:16:50,856 : WARNING : cannot compute similarity with no input ['версии.com_PROPN']\n",
      "2020-11-09 02:17:00,374 : WARNING : cannot compute similarity with no input ['.redirectto_PROPN']\n",
      "2020-11-09 02:17:18,201 : WARNING : cannot compute similarity with no input ['defensetech.org_PROPN']\n",
      "2020-11-09 02:17:30,953 : WARNING : cannot compute similarity with no input ['.redirectto_PROPN']\n",
      "2020-11-09 02:17:47,772 : WARNING : cannot compute similarity with no input ['accountability_PROPN']\n",
      "2020-11-09 02:17:49,075 : WARNING : cannot compute similarity with no input ['scotsman.com_NOUN']\n",
      "2020-11-09 02:17:49,471 : WARNING : cannot compute similarity with no input ['skylark_PROPN']\n",
      "2020-11-09 02:17:50,732 : WARNING : cannot compute similarity with no input ['comanche_PROPN']\n",
      "2020-11-09 02:17:57,676 : WARNING : cannot compute similarity with no input ['vitruvio_PROPN', 'pollione_PROPN']\n",
      "2020-11-09 02:18:08,431 : WARNING : cannot compute similarity with no input ['blackseafor_PROPN']\n",
      "2020-11-09 02:18:09,062 : WARNING : cannot compute similarity with no input ['sacbee.com_NOUN']\n",
      "2020-11-09 02:18:15,946 : WARNING : cannot compute similarity with no input ['.redirectto_PROPN']\n",
      "2020-11-09 02:18:16,325 : WARNING : cannot compute similarity with no input ['defensenews.com_X']\n",
      "2020-11-09 02:18:22,252 : WARNING : cannot compute similarity with no input ['m&c_ADP']\n",
      "2020-11-09 02:18:27,319 : WARNING : cannot compute similarity with no input ['.redirectto_PROPN']\n",
      "2020-11-09 02:18:32,191 : WARNING : cannot compute similarity with no input ['dw-world_PROPN']\n",
      "2020-11-09 02:18:39,678 : WARNING : cannot compute similarity with no input ['.redirectto_PROPN']\n",
      "2020-11-09 02:18:40,225 : WARNING : cannot compute similarity with no input ['.redirectto_PROPN']\n",
      "2020-11-09 02:18:43,411 : WARNING : cannot compute similarity with no input ['.redirectto_PROPN']\n",
      "2020-11-09 02:18:44,321 : WARNING : cannot compute similarity with no input ['sinclair_NOUN']\n",
      "2020-11-09 02:18:50,407 : WARNING : cannot compute similarity with no input ['drudgereport_PROPN']\n",
      "2020-11-09 02:18:53,072 : WARNING : cannot compute similarity with no input ['глен::метлок_PROPN']\n",
      "2020-11-09 02:18:54,616 : WARNING : cannot compute similarity with no input ['dw-world_PROPN']\n",
      "2020-11-09 02:19:02,710 : WARNING : cannot compute similarity with no input ['.redirectto_PROPN']\n",
      "2020-11-09 02:19:03,641 : WARNING : cannot compute similarity with no input ['alvin_PROPN']\n",
      "2020-11-09 02:19:14,146 : WARNING : cannot compute similarity with no input ['drudgereport_PROPN']\n",
      "2020-11-09 02:19:16,206 : WARNING : cannot compute similarity with no input ['defensenews.com_X']\n",
      "2020-11-09 02:19:17,310 : WARNING : cannot compute similarity with no input ['>islamic-minbar.com_X']\n",
      "2020-11-09 02:19:20,186 : WARNING : cannot compute similarity with no input ['.redirectto_PROPN']\n",
      "2020-11-09 02:19:20,429 : WARNING : cannot compute similarity with no input ['defensetech_PROPN']\n",
      "2020-11-09 02:19:25,666 : WARNING : cannot compute similarity with no input ['.redirectto_PROPN']\n",
      "2020-11-09 02:19:37,852 : WARNING : cannot compute similarity with no input ['m.e.n.l_NOUN']\n",
      "2020-11-09 02:19:40,752 : WARNING : cannot compute similarity with no input ['нбп-инфо_PROPN']\n",
      "2020-11-09 02:19:45,541 : WARNING : cannot compute similarity with no input ['defensetech.org_PROPN']\n",
      "2020-11-09 02:19:45,947 : WARNING : cannot compute similarity with no input ['.redirectto_PROPN']\n",
      "2020-11-09 02:19:55,587 : WARNING : cannot compute similarity with no input ['.redirectto_PROPN']\n",
      "2020-11-09 02:20:00,415 : WARNING : cannot compute similarity with no input ['каден_ADJ']\n",
      "2020-11-09 02:20:02,781 : WARNING : cannot compute similarity with no input ['рюрик_NOUN']\n",
      "2020-11-09 02:20:22,784 : WARNING : cannot compute similarity with no input ['zycie_PROPN', 'warszawy_PROPN']\n",
      "2020-11-09 02:20:24,939 : WARNING : cannot compute similarity with no input ['.redirectto_PROPN']\n",
      "2020-11-09 02:20:26,417 : WARNING : cannot compute similarity with no input [\"idex'2005_NUM\"]\n",
      "2020-11-09 02:20:32,283 : WARNING : cannot compute similarity with no input ['dw-world_PROPN']\n",
      "2020-11-09 02:20:37,958 : WARNING : cannot compute similarity with no input ['.redirectto_PROPN']\n",
      "2020-11-09 02:20:44,258 : WARNING : cannot compute similarity with no input ['.redirectto_PROPN']\n",
      "2020-11-09 02:20:52,171 : WARNING : cannot compute similarity with no input ['.redirectto_PROPN']\n",
      "2020-11-09 02:20:53,393 : WARNING : cannot compute similarity with no input ['.redirectto_PROPN']\n",
      "2020-11-09 02:20:54,998 : WARNING : cannot compute similarity with no input ['ingushetiya.ru_NOUN']\n",
      "2020-11-09 02:20:56,899 : WARNING : cannot compute similarity with no input ['defensetech_PROPN']\n",
      "2020-11-09 02:20:57,777 : WARNING : cannot compute similarity with no input ['tupi_PROPN']\n",
      "2020-11-09 02:21:25,340 : WARNING : cannot compute similarity with no input ['.redirectto_PROPN']\n",
      "2020-11-09 02:21:33,334 : WARNING : cannot compute similarity with no input ['hatf-ii_NUM', 'abdali_PROPN']\n",
      "2020-11-09 02:21:33,541 : WARNING : cannot compute similarity with no input ['expatica.com_PROPN']\n",
      "2020-11-09 02:21:40,069 : WARNING : cannot compute similarity with no input ['.redirectto_PROPN']\n",
      "2020-11-09 02:21:42,707 : WARNING : cannot compute similarity with no input ['.redirectto_PROPN']\n",
      "2020-11-09 02:21:43,531 : WARNING : cannot compute similarity with no input ['бен-гурион_NOUN']\n",
      "2020-11-09 02:21:44,676 : WARNING : cannot compute similarity with no input ['.redirectto_PROPN']\n",
      "2020-11-09 02:22:02,859 : WARNING : cannot compute similarity with no input ['магомед::толбоева_PROPN']\n",
      "2020-11-09 02:22:07,784 : WARNING : cannot compute similarity with no input ['c4icr_NOUN']\n",
      "2020-11-09 02:22:09,571 : WARNING : cannot compute similarity with no input ['terradaily.com_PROPN']\n"
     ]
    },
    {
     "name": "stderr",
     "output_type": "stream",
     "text": [
      "2020-11-09 02:22:11,139 : WARNING : cannot compute similarity with no input ['news24.com_X']\n",
      "2020-11-09 02:22:14,992 : WARNING : cannot compute similarity with no input ['naturwissenschaften_PROPN']\n",
      "2020-11-09 02:22:30,630 : WARNING : cannot compute similarity with no input ['erna_PROPN', 'retk_PROPN', 'xxxx_NUM']\n",
      "2020-11-09 02:22:36,714 : WARNING : cannot compute similarity with no input ['venezuelanalysis.com_X']\n",
      "2020-11-09 02:22:37,569 : WARNING : cannot compute similarity with no input ['.redirectto_PROPN']\n",
      "2020-11-09 02:22:39,037 : WARNING : cannot compute similarity with no input ['drudgereport_PROPN']\n",
      "2020-11-09 02:22:44,073 : WARNING : cannot compute similarity with no input ['.redirectto_PROPN']\n",
      "2020-11-09 02:22:46,706 : WARNING : cannot compute similarity with no input ['myxococcus_PROPN', 'xanthus_X']\n",
      "2020-11-09 02:22:50,060 : WARNING : cannot compute similarity with no input ['thechamplainchannel.com_PROPN']\n",
      "2020-11-09 02:22:52,488 : WARNING : cannot compute similarity with no input ['ромир_NOUN']\n",
      "2020-11-09 02:22:52,571 : WARNING : cannot compute similarity with no input ['.redirectto_PROPN']\n",
      "2020-11-09 02:22:54,312 : WARNING : cannot compute similarity with no input ['defensetech.org_PROPN']\n",
      "2020-11-09 02:22:55,043 : WARNING : cannot compute similarity with no input ['.redirectto_PROPN']\n",
      "2020-11-09 02:23:02,436 : WARNING : cannot compute similarity with no input ['тришуть_NOUN']\n",
      "2020-11-09 02:23:06,211 : WARNING : cannot compute similarity with no input ['defensenews.com_X']\n",
      "2020-11-09 02:26:39,347 : WARNING : cannot compute similarity with no input ['news24.com_X']\n",
      "2020-11-09 02:26:54,336 : WARNING : cannot compute similarity with no input ['.redirectto_PROPN']\n",
      "2020-11-09 02:27:28,904 : WARNING : cannot compute similarity with no input ['defensetech_PROPN']\n",
      "2020-11-09 02:27:45,614 : WARNING : cannot compute similarity with no input ['dw-world_PROPN']\n"
     ]
    },
    {
     "name": "stdout",
     "output_type": "stream",
     "text": [
      "Wall time: 25min 58s\n"
     ]
    }
   ],
   "source": [
    "%%time\n",
    "X_train_word_average = word_averaging_list(wv,train_data.text)\n",
    "X_test_word_average = word_averaging_list(wv,test_data.text)"
   ]
  },
  {
   "cell_type": "code",
   "execution_count": 180,
   "metadata": {},
   "outputs": [
    {
     "name": "stdout",
     "output_type": "stream",
     "text": [
      "Wall time: 6.39 s\n",
      "Compiler : 169 ms\n",
      "Parser   : 298 ms\n"
     ]
    },
    {
     "data": {
      "text/plain": [
       "KNeighborsClassifier(algorithm='brute', leaf_size=30, metric='cosine',\n",
       "                     metric_params=None, n_jobs=-1, n_neighbors=16, p=2,\n",
       "                     weights='uniform')"
      ]
     },
     "execution_count": 180,
     "metadata": {},
     "output_type": "execute_result"
    }
   ],
   "source": [
    "%%time\n",
    "knn_naive_dv = KNeighborsClassifier(n_neighbors=16, n_jobs=-1, algorithm='brute', metric='cosine' )\n",
    "knn_naive_dv.fit(X_train_word_average, train_data.topic)"
   ]
  },
  {
   "cell_type": "code",
   "execution_count": 181,
   "metadata": {
    "scrolled": true
   },
   "outputs": [
    {
     "name": "stdout",
     "output_type": "stream",
     "text": [
      "Wall time: 1h 34min 2s\n",
      "Parser   : 374 ms\n"
     ]
    }
   ],
   "source": [
    "%%time\n",
    "predicted = knn_naive_dv.predict(X_test_word_average)"
   ]
  },
  {
   "cell_type": "code",
   "execution_count": 182,
   "metadata": {},
   "outputs": [],
   "source": [
    "import sklearn.metrics"
   ]
  },
  {
   "cell_type": "code",
   "execution_count": 28,
   "metadata": {},
   "outputs": [
    {
     "data": {
      "text/plain": [
       "0.8200965397244128"
      ]
     },
     "execution_count": 28,
     "metadata": {},
     "output_type": "execute_result"
    }
   ],
   "source": [
    "sklearn.metrics.f1_score(test_data.topic, predicted,average ='micro') # 16"
   ]
  },
  {
   "cell_type": "code",
   "execution_count": null,
   "metadata": {},
   "outputs": [],
   "source": []
  },
  {
   "cell_type": "markdown",
   "metadata": {},
   "source": [
    "## 2. SVM"
   ]
  },
  {
   "cell_type": "code",
   "execution_count": 27,
   "metadata": {},
   "outputs": [],
   "source": [
    "from sklearn.svm import SVC \n",
    "import sklearn.metrics"
   ]
  },
  {
   "cell_type": "markdown",
   "metadata": {},
   "source": [
    "Машины опорных векторов работают, находя точки данных разных классов и рисуя границы между ними. Выбранные точки данных называются опорными векторами, а границы называются гиперплоскостями.\n",
    "\n",
    "Алгоритм рассматривает каждую пару точек данных до тех пор, пока не найдет ближайшую пару из разных классов, и не проведет прямую линию (или плоскость) на полпути между ними.\n",
    "\n",
    "Если входные данные линейно разделимы, то решение для гиперплоскости является простым. Но часто бывает так, что области классификации пересекаются, и ни одна прямая плоскость не может выступать в качестве границы.\n",
    "\n",
    "Один из способов обойти это - проецировать ваши данные в более высокие измерения, создавая дополнительные функции. Вместо двумерного пространства вы получаете от наличия особенностейа такжеб,Вы могли бы объединить их (например,ab, a², b²)и попытаться найти закономерности (или разделительную гиперплоскость) в этих измерениях."
   ]
  },
  {
   "cell_type": "markdown",
   "metadata": {},
   "source": [
    "### 2.1 Трюк с ядром"
   ]
  },
  {
   "cell_type": "markdown",
   "metadata": {},
   "source": [
    "Ядро - это просто функция, которая принимает две точки данных в качестве входных данных и возвращает оценку сходства. Это сходство можно интерпретировать как показатель близости. Чем ближе точки данных, тем выше сходство.\n",
    "\n",
    "Крутая вещь в функциях ядра заключается в том, что они могут дать нам оценки сходства из более высоких измерений без необходимости трансформации наших данных.\n",
    "\n",
    "Мы можем найти самые близкие точки данных в гораздо более высоких измерениях без их фактического присутствия. Это означает, что мы можем получить все преимущества от дополнительных функций, не разрабатывая и не изучая их.\n",
    "\n",
    "Таким образом, фокус ядра заключается в использовании функции ядра вместо дорогостоящего преобразования."
   ]
  },
  {
   "cell_type": "markdown",
   "metadata": {},
   "source": [
    "###### 2.1.1 Линейное ядро"
   ]
  },
  {
   "cell_type": "markdown",
   "metadata": {},
   "source": [
    "Линейные ядра вычисляют сходство во входном пространстве. \n",
    "Они неявно определяют трансформацию в более высокие измерения."
   ]
  },
  {
   "cell_type": "code",
   "execution_count": 40,
   "metadata": {},
   "outputs": [],
   "source": [
    "clf = SVC(kernel='linear')"
   ]
  },
  {
   "cell_type": "code",
   "execution_count": 41,
   "metadata": {},
   "outputs": [
    {
     "name": "stdout",
     "output_type": "stream",
     "text": [
      "Wall time: 10min\n"
     ]
    },
    {
     "data": {
      "text/plain": [
       "SVC(C=1.0, break_ties=False, cache_size=200, class_weight=None, coef0=0.0,\n",
       "    decision_function_shape='ovr', degree=3, gamma='scale', kernel='linear',\n",
       "    max_iter=-1, probability=False, random_state=None, shrinking=True,\n",
       "    tol=0.001, verbose=False)"
      ]
     },
     "execution_count": 41,
     "metadata": {},
     "output_type": "execute_result"
    }
   ],
   "source": [
    "%%time\n",
    "clf.fit(X_train_word_average, train_data.topic)"
   ]
  },
  {
   "cell_type": "code",
   "execution_count": 42,
   "metadata": {},
   "outputs": [
    {
     "name": "stdout",
     "output_type": "stream",
     "text": [
      "Wall time: 1min 28s\n"
     ]
    }
   ],
   "source": [
    "%%time\n",
    "prediction = clf.predict(X_test_word_average)"
   ]
  },
  {
   "cell_type": "code",
   "execution_count": 44,
   "metadata": {},
   "outputs": [
    {
     "data": {
      "text/plain": [
       "0.7919180580889574"
      ]
     },
     "execution_count": 44,
     "metadata": {},
     "output_type": "execute_result"
    }
   ],
   "source": [
    "sklearn.metrics.f1_score(test_data.topic, prediction,average ='micro')"
   ]
  },
  {
   "cell_type": "markdown",
   "metadata": {},
   "source": [
    "###### 2.1.2 Ядро RBF"
   ]
  },
  {
   "cell_type": "markdown",
   "metadata": {},
   "source": [
    "Радиальная базисная функция.\n",
    "Ядро не просто помогает нам избежать некоторых дополнительных функций. \n",
    "Пространство объектов RBF имеет бесконечное количество измерений. \n",
    "Это означает, что мы можем использовать ядро для построения очень сложных границ принятия решений. \n",
    "Чем больше измерений, тем больше шансов, что мы найдем гиперплоскость, которая аккуратно разделяет наши данные.\n",
    "\n",
    "\"Радиальная основа\" - часть названия происходит от того факта, что эта функция уменьшается в цене, когда она удаляется от центра. \n",
    "(Центр в данном случае является опорным вектором.) Это объясняет, почему границы решений имеют форму колокольчика, когда мы их визуализируем."
   ]
  },
  {
   "cell_type": "code",
   "execution_count": 30,
   "metadata": {},
   "outputs": [],
   "source": [
    "clf = SVC(kernel='rbf')"
   ]
  },
  {
   "cell_type": "code",
   "execution_count": 31,
   "metadata": {},
   "outputs": [
    {
     "name": "stdout",
     "output_type": "stream",
     "text": [
      "Wall time: 10min 14s\n"
     ]
    },
    {
     "data": {
      "text/plain": [
       "SVC(C=1.0, break_ties=False, cache_size=200, class_weight=None, coef0=0.0,\n",
       "    decision_function_shape='ovr', degree=3, gamma='scale', kernel='rbf',\n",
       "    max_iter=-1, probability=False, random_state=None, shrinking=True,\n",
       "    tol=0.001, verbose=False)"
      ]
     },
     "execution_count": 31,
     "metadata": {},
     "output_type": "execute_result"
    }
   ],
   "source": [
    "%%time\n",
    "clf.fit(X_train_word_average, train_data.topic)"
   ]
  },
  {
   "cell_type": "code",
   "execution_count": 32,
   "metadata": {},
   "outputs": [
    {
     "name": "stdout",
     "output_type": "stream",
     "text": [
      "Wall time: 1min 33s\n"
     ]
    }
   ],
   "source": [
    "%%time\n",
    "prediction = clf.predict(X_test_word_average)"
   ]
  },
  {
   "cell_type": "code",
   "execution_count": 33,
   "metadata": {},
   "outputs": [
    {
     "data": {
      "text/plain": [
       "0.7985126981899818"
      ]
     },
     "execution_count": 33,
     "metadata": {},
     "output_type": "execute_result"
    }
   ],
   "source": [
    "sklearn.metrics.f1_score(test_data.topic, prediction,average ='micro')"
   ]
  },
  {
   "cell_type": "markdown",
   "metadata": {},
   "source": [
    "###### 2.1.3 Полиномиальное ядро"
   ]
  },
  {
   "cell_type": "markdown",
   "metadata": {},
   "source": [
    "На самом деле мы уже встретили ядро  полинома. Линейные ядра являются частным случаем полиномиальных ядер, где степень = 1.\n",
    "Ядро полинома позволяет нам изучать шаблоны в наших данных, как если бы у нас был доступ к функциям взаимодействия, которые являются результатом объединения ранее существующих функций (a², b², ab и т. Д.)"
   ]
  },
  {
   "cell_type": "code",
   "execution_count": 34,
   "metadata": {},
   "outputs": [],
   "source": [
    "clf = SVC(kernel='poly')"
   ]
  },
  {
   "cell_type": "code",
   "execution_count": 35,
   "metadata": {},
   "outputs": [
    {
     "name": "stdout",
     "output_type": "stream",
     "text": [
      "Wall time: 9min 13s\n"
     ]
    },
    {
     "data": {
      "text/plain": [
       "SVC(C=1.0, break_ties=False, cache_size=200, class_weight=None, coef0=0.0,\n",
       "    decision_function_shape='ovr', degree=3, gamma='scale', kernel='poly',\n",
       "    max_iter=-1, probability=False, random_state=None, shrinking=True,\n",
       "    tol=0.001, verbose=False)"
      ]
     },
     "execution_count": 35,
     "metadata": {},
     "output_type": "execute_result"
    }
   ],
   "source": [
    "%%time\n",
    "clf.fit(X_train_word_average, train_data.topic)"
   ]
  },
  {
   "cell_type": "code",
   "execution_count": 36,
   "metadata": {},
   "outputs": [
    {
     "name": "stdout",
     "output_type": "stream",
     "text": [
      "Wall time: 1min 25s\n"
     ]
    }
   ],
   "source": [
    "%%time\n",
    "prediction = clf.predict(X_test_word_average)"
   ]
  },
  {
   "cell_type": "code",
   "execution_count": 37,
   "metadata": {},
   "outputs": [
    {
     "data": {
      "text/plain": [
       "0.8017398624947384"
      ]
     },
     "execution_count": 37,
     "metadata": {},
     "output_type": "execute_result"
    }
   ],
   "source": [
    "sklearn.metrics.f1_score(test_data.topic, prediction,average ='micro')"
   ]
  },
  {
   "cell_type": "markdown",
   "metadata": {},
   "source": [
    "###### 2.1.4 Сигмоидальное ядро и попарные метрики"
   ]
  },
  {
   "cell_type": "code",
   "execution_count": 46,
   "metadata": {},
   "outputs": [],
   "source": [
    "clf = SVC(kernel='sigmoid')"
   ]
  },
  {
   "cell_type": "code",
   "execution_count": 47,
   "metadata": {},
   "outputs": [
    {
     "name": "stdout",
     "output_type": "stream",
     "text": [
      "Wall time: 11min 45s\n"
     ]
    },
    {
     "data": {
      "text/plain": [
       "SVC(C=1.0, break_ties=False, cache_size=200, class_weight=None, coef0=0.0,\n",
       "    decision_function_shape='ovr', degree=3, gamma='scale', kernel='sigmoid',\n",
       "    max_iter=-1, probability=False, random_state=None, shrinking=True,\n",
       "    tol=0.001, verbose=False)"
      ]
     },
     "execution_count": 47,
     "metadata": {},
     "output_type": "execute_result"
    }
   ],
   "source": [
    "%%time\n",
    "clf.fit(X_train_word_average, train_data.topic)"
   ]
  },
  {
   "cell_type": "code",
   "execution_count": 48,
   "metadata": {},
   "outputs": [
    {
     "name": "stdout",
     "output_type": "stream",
     "text": [
      "Wall time: 1min 34s\n"
     ]
    }
   ],
   "source": [
    "%%time\n",
    "prediction = clf.predict(X_test_word_average)"
   ]
  },
  {
   "cell_type": "code",
   "execution_count": 49,
   "metadata": {},
   "outputs": [
    {
     "data": {
      "text/plain": [
       "0.7673635470745054"
      ]
     },
     "execution_count": 49,
     "metadata": {},
     "output_type": "execute_result"
    }
   ],
   "source": [
    "sklearn.metrics.f1_score(test_data.topic, prediction,average ='micro')"
   ]
  },
  {
   "cell_type": "markdown",
   "metadata": {},
   "source": [
    "###### Вывод:"
   ]
  },
  {
   "cell_type": "markdown",
   "metadata": {},
   "source": [
    "Наилучшее значения Ф-меры показала: \"полиномиальная модель\""
   ]
  },
  {
   "cell_type": "markdown",
   "metadata": {},
   "source": [
    "### 2.2 Константа С"
   ]
  },
  {
   "attachments": {
    "image.png": {
     "image/png": "[encoded data removed]"
    }
   },
   "cell_type": "markdown",
   "metadata": {},
   "source": [
    "Как правило, SVM стремятся найти гиперплоскость с максимальным запасом. То есть линия, которая имеет как можно больше места с обеих сторон.\n",
    "\n",
    "Высокое значение C говорит алгоритму, что вам важнее правильно классифицировать все тренировочные точки, чем оставлять пространство для маневра для будущих данных.\n",
    "![image.png](attachment:image.png)"
   ]
  },
  {
   "cell_type": "code",
   "execution_count": 56,
   "metadata": {},
   "outputs": [
    {
     "data": {
      "text/plain": [
       "0.21425564753753332"
      ]
     },
     "execution_count": 56,
     "metadata": {},
     "output_type": "execute_result"
    }
   ],
   "source": [
    "%%time\n",
    "\n",
    "# Полиномиальное ядро с С=0.0000001\n",
    "\n",
    "clf = SVC(kernel='poly', C=0.0000001)\n",
    "\n",
    "clf.fit(X_train_word_average, train_data.topic)\n",
    "prediction = clf.predict(X_test_word_average)\n",
    "sklearn.metrics.f1_score(test_data.topic, prediction,average ='micro')"
   ]
  },
  {
   "cell_type": "code",
   "execution_count": 57,
   "metadata": {
    "scrolled": true
   },
   "outputs": [
    {
     "name": "stdout",
     "output_type": "stream",
     "text": [
      "Wall time: 27min 35s\n"
     ]
    },
    {
     "data": {
      "text/plain": [
       "0.7884102708011788"
      ]
     },
     "execution_count": 57,
     "metadata": {},
     "output_type": "execute_result"
    }
   ],
   "source": [
    "%%time\n",
    "\n",
    "# Полиномиальное ядро с С=1000000\n",
    "\n",
    "clf = SVC(kernel='poly', C=1000000)\n",
    "clf.fit(X_train_word_average, train_data.topic)\n",
    "prediction = clf.predict(X_test_word_average)\n",
    "sklearn.metrics.f1_score(test_data.topic, prediction,average ='micro')"
   ]
  },
  {
   "cell_type": "markdown",
   "metadata": {},
   "source": [
    "#### 2.2.1 Выбор оптимальных параметров"
   ]
  },
  {
   "cell_type": "markdown",
   "metadata": {},
   "source": [
    "Т.к. Для поиска близости векторов наилучшим образом подойдёт \"косиново расстояние\" "
   ]
  },
  {
   "cell_type": "code",
   "execution_count": 135,
   "metadata": {},
   "outputs": [],
   "source": [
    "from sklearn.svm import SVC \n",
    "import sklearn.metrics "
   ]
  },
  {
   "cell_type": "code",
   "execution_count": 136,
   "metadata": {},
   "outputs": [],
   "source": [
    "clf = SVC(kernel='poly')"
   ]
  },
  {
   "cell_type": "markdown",
   "metadata": {},
   "source": [
    "Т.к. Найдём оптимальное число ближайших соседей для выборки наших данных с помощью GridSearchCV()"
   ]
  },
  {
   "cell_type": "code",
   "execution_count": 137,
   "metadata": {},
   "outputs": [],
   "source": [
    "from sklearn.model_selection import GridSearchCV"
   ]
  },
  {
   "cell_type": "code",
   "execution_count": 138,
   "metadata": {},
   "outputs": [],
   "source": [
    "# Найдём наилучшее значение Ф-меры модели, при различных C = [1, 5, 10, 15, 20, 100, 1000, 10000]\n",
    "scv_params = {'C': [1, 5, 10, 15, 20, 100, 1000, 10000]}"
   ]
  },
  {
   "cell_type": "code",
   "execution_count": 139,
   "metadata": {},
   "outputs": [
    {
     "name": "stdout",
     "output_type": "stream",
     "text": [
      "Wall time: 17.2 ms\n"
     ]
    }
   ],
   "source": [
    "%%time\n",
    "scv_grid = GridSearchCV(clf, scv_params, scoring='f1_micro', n_jobs=-1)"
   ]
  },
  {
   "cell_type": "code",
   "execution_count": 140,
   "metadata": {},
   "outputs": [
    {
     "name": "stdout",
     "output_type": "stream",
     "text": [
      "Wall time: 5h 5min 13s\n"
     ]
    },
    {
     "data": {
      "text/plain": [
       "GridSearchCV(cv=None, error_score=nan,\n",
       "             estimator=SVC(C=1.0, break_ties=False, cache_size=200,\n",
       "                           class_weight=None, coef0=0.0,\n",
       "                           decision_function_shape='ovr', degree=3,\n",
       "                           gamma='scale', kernel='poly', max_iter=-1,\n",
       "                           probability=False, random_state=None, shrinking=True,\n",
       "                           tol=0.001, verbose=False),\n",
       "             iid='deprecated', n_jobs=-1,\n",
       "             param_grid={'C': [1, 5, 10, 15, 20, 100, 1000, 10000]},\n",
       "             pre_dispatch='2*n_jobs', refit=True, return_train_score=False,\n",
       "             scoring='f1_micro', verbose=0)"
      ]
     },
     "execution_count": 140,
     "metadata": {},
     "output_type": "execute_result"
    }
   ],
   "source": [
    "%%time\n",
    "scv_grid.fit(X_train_word_average, train_data.topic)"
   ]
  },
  {
   "cell_type": "code",
   "execution_count": 141,
   "metadata": {
    "scrolled": true
   },
   "outputs": [
    {
     "data": {
      "text/plain": [
       "(0.8193298241604247, {'C': 5})"
      ]
     },
     "execution_count": 141,
     "metadata": {},
     "output_type": "execute_result"
    }
   ],
   "source": [
    "# Вывод наилучшего значения Ф-меры и значения числа соседё для данной медели\n",
    "scv_grid.best_score_, scv_grid.best_params_"
   ]
  },
  {
   "cell_type": "code",
   "execution_count": 142,
   "metadata": {},
   "outputs": [
    {
     "name": "stdout",
     "output_type": "stream",
     "text": [
      "0.8108 for {'C': 1}\n",
      "0.8193 for {'C': 5}\n",
      "0.8162 for {'C': 10}\n",
      "0.8122 for {'C': 15}\n",
      "0.8097 for {'C': 20}\n",
      "0.8018 for {'C': 100}\n",
      "0.8019 for {'C': 1000}\n",
      "0.8019 for {'C': 10000}\n"
     ]
    }
   ],
   "source": [
    "# Построение сетки значений Ф-меры для различного числа ближайших соседей \n",
    "means = scv_grid.cv_results_['mean_test_score']\n",
    "for mean, params in zip(means, scv_grid.cv_results_['params']):\n",
    "    print(\"%0.4f for %r\" % (mean, params))"
   ]
  },
  {
   "cell_type": "markdown",
   "metadata": {},
   "source": [
    "###### Вывод:"
   ]
  },
  {
   "cell_type": "markdown",
   "metadata": {},
   "source": [
    "Наибольшее значение Ф-мера принимает при значении константы С от 1 до 10 "
   ]
  },
  {
   "cell_type": "code",
   "execution_count": 173,
   "metadata": {},
   "outputs": [],
   "source": [
    "# Найдём наилучшее значение Ф-меры модели, при различных C = [3, 4, 5, 6, 7, 8, 9]\n",
    "scv_params = {'C': [3, 4, 5, 6, 7, 8, 9]}"
   ]
  },
  {
   "cell_type": "code",
   "execution_count": 174,
   "metadata": {},
   "outputs": [
    {
     "name": "stdout",
     "output_type": "stream",
     "text": [
      "Wall time: 0 ns\n"
     ]
    }
   ],
   "source": [
    "%%time\n",
    "scv_grid = GridSearchCV(clf, scv_params, scoring='f1_micro', n_jobs=-1)"
   ]
  },
  {
   "cell_type": "code",
   "execution_count": 175,
   "metadata": {},
   "outputs": [
    {
     "name": "stdout",
     "output_type": "stream",
     "text": [
      "Wall time: 3h 29min 16s\n"
     ]
    },
    {
     "data": {
      "text/plain": [
       "GridSearchCV(cv=None, error_score=nan,\n",
       "             estimator=SVC(C=1.0, break_ties=False, cache_size=200,\n",
       "                           class_weight=None, coef0=0.0,\n",
       "                           decision_function_shape='ovr', degree=3,\n",
       "                           gamma='scale', kernel='poly', max_iter=-1,\n",
       "                           probability=False, random_state=None, shrinking=True,\n",
       "                           tol=0.001, verbose=False),\n",
       "             iid='deprecated', n_jobs=-1,\n",
       "             param_grid={'C': [3, 4, 5, 6, 7, 8, 9]}, pre_dispatch='2*n_jobs',\n",
       "             refit=True, return_train_score=False, scoring='f1_micro',\n",
       "             verbose=0)"
      ]
     },
     "execution_count": 175,
     "metadata": {},
     "output_type": "execute_result"
    }
   ],
   "source": [
    "%%time\n",
    "scv_grid.fit(X_train_word_average, train_data.topic)"
   ]
  },
  {
   "cell_type": "code",
   "execution_count": 176,
   "metadata": {
    "scrolled": true
   },
   "outputs": [
    {
     "data": {
      "text/plain": [
       "(0.8193298241604247, {'C': 5})"
      ]
     },
     "execution_count": 176,
     "metadata": {},
     "output_type": "execute_result"
    }
   ],
   "source": [
    "# Вывод наилучшего значения Ф-меры и значения числа соседё для данной медели\n",
    "scv_grid.best_score_, scv_grid.best_params_"
   ]
  },
  {
   "cell_type": "code",
   "execution_count": 177,
   "metadata": {},
   "outputs": [
    {
     "name": "stdout",
     "output_type": "stream",
     "text": [
      "0.8181 for {'C': 3}\n",
      "0.8188 for {'C': 4}\n",
      "0.8193 for {'C': 5}\n",
      "0.8192 for {'C': 6}\n",
      "0.8185 for {'C': 7}\n",
      "0.8175 for {'C': 8}\n",
      "0.8170 for {'C': 9}\n"
     ]
    }
   ],
   "source": [
    "# Построение сетки значений Ф-меры для различного числа ближайших соседей \n",
    "means = scv_grid.cv_results_['mean_test_score']\n",
    "for mean, params in zip(means, scv_grid.cv_results_['params']):\n",
    "    print(\"%0.4f for %r\" % (mean, params))"
   ]
  },
  {
   "cell_type": "markdown",
   "metadata": {},
   "source": [
    "###### Вывод:"
   ]
  },
  {
   "cell_type": "markdown",
   "metadata": {},
   "source": [
    "Наибольшее значение Ф-мера принимает при значении константы С = 5"
   ]
  },
  {
   "cell_type": "code",
   "execution_count": null,
   "metadata": {},
   "outputs": [],
   "source": []
  },
  {
   "cell_type": "markdown",
   "metadata": {},
   "source": [
    "#### 2.2.2 Бутстрэп"
   ]
  },
  {
   "cell_type": "markdown",
   "metadata": {},
   "source": [
    "###### Для повышения производительности метода SVM и повышения точности попробуем использовать \"Бэккинг\""
   ]
  },
  {
   "cell_type": "markdown",
   "metadata": {},
   "source": [
    "Bagging (от Bootstrap aggregation) — это один из первых и самых простых видов ансамблей. \n",
    "Он был придуман Ле́о Бре́йманом в 1994 году. Бэггинг основан на статистическом методе бутстрэпа, который позволяет оценивать многие статистики сложных распределений.\n",
    "\n",
    "\n",
    "Метод бутстрэпа заключается в следующем. Пусть имеется выборка X размера N. Равномерно возьмем из выборки N объектов с возвращением. Это означает, что мы будем N раз выбирать произвольный объект выборки (считаем, что каждый объект «достается» с одинаковой вероятностью 1/N), причем каждый раз мы выбираем из всех исходных N объектов. \n",
    "\n",
    "Можно представить себе мешок, из которого достают шарики: выбранный на каком-то шаге шарик возвращается обратно в мешок, и следующий выбор опять делается равновероятно из того же числа шариков. Отметим, что из-за возвращения среди них окажутся повторы. Обозначим новую выборку через X1. Повторяя процедуру M раз, сгенерируем M подвыборок X1,…,XM. Теперь мы имеем достаточно большое число выборок и можем оценивать различные статистики исходного распределения."
   ]
  },
  {
   "cell_type": "code",
   "execution_count": 22,
   "metadata": {},
   "outputs": [],
   "source": [
    "from sklearn.ensemble import BaggingClassifier"
   ]
  },
  {
   "cell_type": "code",
   "execution_count": 20,
   "metadata": {},
   "outputs": [
    {
     "name": "stdout",
     "output_type": "stream",
     "text": [
      "Wall time: 12min 30s\n"
     ]
    },
    {
     "data": {
      "text/plain": [
       "0.8090360600533184"
      ]
     },
     "execution_count": 20,
     "metadata": {},
     "output_type": "execute_result"
    }
   ],
   "source": [
    "%%time\n",
    "\n",
    "# Полиномиальное ядро с С=5\n",
    "\n",
    "clf = SVC(kernel='poly', C=5)\n",
    "clf.fit(X_train_word_average, train_data.topic)\n",
    "prediction = clf.predict(X_test_word_average)\n",
    "sklearn.metrics.f1_score(test_data.topic, prediction,average ='micro')"
   ]
  },
  {
   "cell_type": "code",
   "execution_count": 23,
   "metadata": {},
   "outputs": [
    {
     "name": "stdout",
     "output_type": "stream",
     "text": [
      "Wall time: 59min 19s\n"
     ]
    },
    {
     "data": {
      "text/plain": [
       "0.8081941911042515"
      ]
     },
     "execution_count": 23,
     "metadata": {},
     "output_type": "execute_result"
    }
   ],
   "source": [
    "%%time\n",
    "# Бэккинг \n",
    "\n",
    "# Полиномиальное ядро с С=5\n",
    "\n",
    "clf = BaggingClassifier(SVC(kernel='poly', C=5))\n",
    "clf.fit(X_train_word_average, train_data.topic)\n",
    "prediction = clf.predict(X_test_word_average)\n",
    "sklearn.metrics.f1_score(test_data.topic, prediction,average ='micro')"
   ]
  },
  {
   "cell_type": "markdown",
   "metadata": {},
   "source": [
    "##### Вывод:"
   ]
  },
  {
   "cell_type": "markdown",
   "metadata": {},
   "source": [
    "Для наших данных \"Бэггинг\" только ужудшает качество модели"
   ]
  },
  {
   "cell_type": "code",
   "execution_count": null,
   "metadata": {},
   "outputs": [],
   "source": []
  },
  {
   "cell_type": "markdown",
   "metadata": {},
   "source": [
    "#### Для всего датасета df"
   ]
  },
  {
   "cell_type": "code",
   "execution_count": 27,
   "metadata": {},
   "outputs": [],
   "source": [
    "#Разделим нашу таблицу на обучение и тест \n",
    "train_data, test_data = train_test_split(df, test_size=0.1, random_state=42)"
   ]
  },
  {
   "cell_type": "code",
   "execution_count": 28,
   "metadata": {
    "scrolled": true
   },
   "outputs": [
    {
     "name": "stderr",
     "output_type": "stream",
     "text": [
      "2020-11-27 22:01:39,564 : WARNING : cannot compute similarity with no input ['.redirectto_PROPN']\n",
      "2020-11-27 22:01:40,396 : WARNING : cannot compute similarity with no input ['жозефина-шарлотт_NOUN']\n",
      "2020-11-27 22:01:40,472 : WARNING : cannot compute similarity with no input ['.redirectto_PROPN']\n",
      "2020-11-27 22:01:43,069 : WARNING : cannot compute similarity with no input ['вттво_ADJ', '-омск_PROPN', 'xxxx_NUM']\n",
      "2020-11-27 22:01:45,769 : WARNING : cannot compute similarity with no input ['каден_ADJ']\n",
      "2020-11-27 22:01:50,029 : WARNING : cannot compute similarity with no input ['.redirectto_PROPN']\n",
      "2020-11-27 22:01:50,339 : WARNING : cannot compute similarity with no input ['тунгуска-м1_NUM']\n",
      "2020-11-27 22:01:54,421 : WARNING : cannot compute similarity with no input ['scotsman.com_NOUN']\n",
      "2020-11-27 22:02:00,085 : WARNING : cannot compute similarity with no input ['кабар_NOUN']\n",
      "2020-11-27 22:02:07,594 : WARNING : cannot compute similarity with no input ['хорайзон_PART']\n",
      "2020-11-27 22:02:15,988 : WARNING : cannot compute similarity with no input ['frog-7_NUM']\n",
      "2020-11-27 22:02:16,072 : WARNING : cannot compute similarity with no input ['samba_PROPN']\n",
      "2020-11-27 22:02:21,484 : WARNING : cannot compute similarity with no input ['вттво_ADJ', '-омск_PROPN', 'xxxx_NUM']\n",
      "2020-11-27 22:02:24,554 : WARNING : cannot compute similarity with no input ['.redirectto_PROPN']\n",
      "2020-11-27 22:02:25,640 : WARNING : cannot compute similarity with no input ['president.kremlin.ru_NOUN']\n",
      "2020-11-27 22:02:29,404 : WARNING : cannot compute similarity with no input ['x_NUM', '43a_PROPN']\n",
      "2020-11-27 22:02:32,699 : WARNING : cannot compute similarity with no input ['.redirectto_PROPN']\n",
      "2020-11-27 22:02:35,348 : WARNING : cannot compute similarity with no input ['альфред::вегенер_PROPN']\n",
      "2020-11-27 22:02:35,406 : WARNING : cannot compute similarity with no input ['.redirectto_PROPN']\n",
      "2020-11-27 22:02:38,312 : WARNING : cannot compute similarity with no input ['феско::вояджер_PROPN']\n",
      "2020-11-27 22:02:50,407 : WARNING : cannot compute similarity with no input ['airtanker_PROPN']\n",
      "2020-11-27 22:02:51,676 : WARNING : cannot compute similarity with no input ['elmendorf_PROPN', 'afb_PROPN']\n",
      "2020-11-27 22:02:53,729 : WARNING : cannot compute similarity with no input ['wtnh.com_PROPN']\n",
      "2020-11-27 22:02:59,158 : WARNING : cannot compute similarity with no input ['payvand.com_PROPN']\n",
      "2020-11-27 22:03:08,318 : WARNING : cannot compute similarity with no input ['.redirectto_PROPN']\n",
      "2020-11-27 22:03:11,208 : WARNING : cannot compute similarity with no input ['версии.com_PROPN']\n",
      "2020-11-27 22:03:14,127 : WARNING : cannot compute similarity with no input ['.redirectto_PROPN']\n",
      "2020-11-27 22:03:20,968 : WARNING : cannot compute similarity with no input ['defensetech.org_PROPN']\n",
      "2020-11-27 22:03:26,709 : WARNING : cannot compute similarity with no input ['.redirectto_PROPN']\n",
      "2020-11-27 22:03:34,404 : WARNING : cannot compute similarity with no input ['accountability_PROPN']\n",
      "2020-11-27 22:03:35,069 : WARNING : cannot compute similarity with no input ['scotsman.com_NOUN']\n",
      "2020-11-27 22:03:35,216 : WARNING : cannot compute similarity with no input ['skylark_PROPN']\n",
      "2020-11-27 22:03:35,913 : WARNING : cannot compute similarity with no input ['comanche_PROPN']\n",
      "2020-11-27 22:03:39,308 : WARNING : cannot compute similarity with no input ['vitruvio_PROPN', 'pollione_PROPN']\n",
      "2020-11-27 22:03:44,751 : WARNING : cannot compute similarity with no input ['blackseafor_PROPN']\n",
      "2020-11-27 22:03:45,089 : WARNING : cannot compute similarity with no input ['sacbee.com_NOUN']\n",
      "2020-11-27 22:03:48,701 : WARNING : cannot compute similarity with no input ['.redirectto_PROPN']\n",
      "2020-11-27 22:03:48,922 : WARNING : cannot compute similarity with no input ['defensenews.com_X']\n",
      "2020-11-27 22:03:52,229 : WARNING : cannot compute similarity with no input ['m&c_ADP']\n",
      "2020-11-27 22:03:54,949 : WARNING : cannot compute similarity with no input ['.redirectto_PROPN']\n",
      "2020-11-27 22:03:57,710 : WARNING : cannot compute similarity with no input ['dw-world_PROPN']\n",
      "2020-11-27 22:04:01,684 : WARNING : cannot compute similarity with no input ['.redirectto_PROPN']\n",
      "2020-11-27 22:04:02,015 : WARNING : cannot compute similarity with no input ['.redirectto_PROPN']\n",
      "2020-11-27 22:04:03,987 : WARNING : cannot compute similarity with no input ['.redirectto_PROPN']\n",
      "2020-11-27 22:04:04,577 : WARNING : cannot compute similarity with no input ['sinclair_NOUN']\n",
      "2020-11-27 22:04:08,234 : WARNING : cannot compute similarity with no input ['drudgereport_PROPN']\n",
      "2020-11-27 22:04:09,771 : WARNING : cannot compute similarity with no input ['глен::метлок_PROPN']\n",
      "2020-11-27 22:04:10,723 : WARNING : cannot compute similarity with no input ['dw-world_PROPN']\n",
      "2020-11-27 22:04:14,810 : WARNING : cannot compute similarity with no input ['.redirectto_PROPN']\n",
      "2020-11-27 22:04:15,278 : WARNING : cannot compute similarity with no input ['alvin_PROPN']\n",
      "2020-11-27 22:04:20,740 : WARNING : cannot compute similarity with no input ['drudgereport_PROPN']\n",
      "2020-11-27 22:04:22,006 : WARNING : cannot compute similarity with no input ['defensenews.com_X']\n",
      "2020-11-27 22:04:22,703 : WARNING : cannot compute similarity with no input ['>islamic-minbar.com_X']\n",
      "2020-11-27 22:04:24,373 : WARNING : cannot compute similarity with no input ['.redirectto_PROPN']\n",
      "2020-11-27 22:04:24,511 : WARNING : cannot compute similarity with no input ['defensetech_PROPN']\n",
      "2020-11-27 22:04:27,718 : WARNING : cannot compute similarity with no input ['.redirectto_PROPN']\n",
      "2020-11-27 22:04:34,881 : WARNING : cannot compute similarity with no input ['m.e.n.l_NOUN']\n",
      "2020-11-27 22:04:36,557 : WARNING : cannot compute similarity with no input ['нбп-инфо_PROPN']\n",
      "2020-11-27 22:04:39,020 : WARNING : cannot compute similarity with no input ['defensetech.org_PROPN']\n",
      "2020-11-27 22:04:39,259 : WARNING : cannot compute similarity with no input ['.redirectto_PROPN']\n",
      "2020-11-27 22:04:44,935 : WARNING : cannot compute similarity with no input ['.redirectto_PROPN']\n",
      "2020-11-27 22:04:47,816 : WARNING : cannot compute similarity with no input ['каден_ADJ']\n",
      "2020-11-27 22:04:49,188 : WARNING : cannot compute similarity with no input ['рюрик_NOUN']\n",
      "2020-11-27 22:05:01,313 : WARNING : cannot compute similarity with no input ['zycie_PROPN', 'warszawy_PROPN']\n",
      "2020-11-27 22:05:02,597 : WARNING : cannot compute similarity with no input ['.redirectto_PROPN']\n",
      "2020-11-27 22:05:03,469 : WARNING : cannot compute similarity with no input [\"idex'2005_NUM\"]\n",
      "2020-11-27 22:05:07,053 : WARNING : cannot compute similarity with no input ['dw-world_PROPN']\n",
      "2020-11-27 22:05:10,461 : WARNING : cannot compute similarity with no input ['.redirectto_PROPN']\n",
      "2020-11-27 22:05:14,311 : WARNING : cannot compute similarity with no input ['.redirectto_PROPN']\n",
      "2020-11-27 22:05:19,055 : WARNING : cannot compute similarity with no input ['.redirectto_PROPN']\n",
      "2020-11-27 22:05:19,804 : WARNING : cannot compute similarity with no input ['.redirectto_PROPN']\n",
      "2020-11-27 22:05:20,738 : WARNING : cannot compute similarity with no input ['ingushetiya.ru_NOUN']\n",
      "2020-11-27 22:05:21,860 : WARNING : cannot compute similarity with no input ['defensetech_PROPN']\n",
      "2020-11-27 22:05:22,445 : WARNING : cannot compute similarity with no input ['tupi_PROPN']\n",
      "2020-11-27 22:05:39,309 : WARNING : cannot compute similarity with no input ['.redirectto_PROPN']\n",
      "2020-11-27 22:05:44,195 : WARNING : cannot compute similarity with no input ['hatf-ii_NUM', 'abdali_PROPN']\n",
      "2020-11-27 22:05:44,319 : WARNING : cannot compute similarity with no input ['expatica.com_PROPN']\n",
      "2020-11-27 22:05:48,280 : WARNING : cannot compute similarity with no input ['.redirectto_PROPN']\n",
      "2020-11-27 22:05:49,865 : WARNING : cannot compute similarity with no input ['.redirectto_PROPN']\n",
      "2020-11-27 22:05:50,331 : WARNING : cannot compute similarity with no input ['бен-гурион_NOUN']\n",
      "2020-11-27 22:05:51,082 : WARNING : cannot compute similarity with no input ['.redirectto_PROPN']\n",
      "2020-11-27 22:06:02,245 : WARNING : cannot compute similarity with no input ['магомед::толбоева_PROPN']\n",
      "2020-11-27 22:06:05,216 : WARNING : cannot compute similarity with no input ['c4icr_NOUN']\n",
      "2020-11-27 22:06:06,280 : WARNING : cannot compute similarity with no input ['terradaily.com_PROPN']\n"
     ]
    },
    {
     "name": "stderr",
     "output_type": "stream",
     "text": [
      "2020-11-27 22:06:07,201 : WARNING : cannot compute similarity with no input ['news24.com_X']\n",
      "2020-11-27 22:06:09,314 : WARNING : cannot compute similarity with no input ['naturwissenschaften_PROPN']\n",
      "2020-11-27 22:06:18,743 : WARNING : cannot compute similarity with no input ['erna_PROPN', 'retk_PROPN', 'xxxx_NUM']\n",
      "2020-11-27 22:06:22,556 : WARNING : cannot compute similarity with no input ['venezuelanalysis.com_X']\n",
      "2020-11-27 22:06:23,102 : WARNING : cannot compute similarity with no input ['.redirectto_PROPN']\n",
      "2020-11-27 22:06:23,986 : WARNING : cannot compute similarity with no input ['drudgereport_PROPN']\n",
      "2020-11-27 22:06:26,757 : WARNING : cannot compute similarity with no input ['.redirectto_PROPN']\n",
      "2020-11-27 22:06:27,976 : WARNING : cannot compute similarity with no input ['myxococcus_PROPN', 'xanthus_X']\n",
      "2020-11-27 22:06:30,031 : WARNING : cannot compute similarity with no input ['thechamplainchannel.com_PROPN']\n",
      "2020-11-27 22:06:31,507 : WARNING : cannot compute similarity with no input ['ромир_NOUN']\n",
      "2020-11-27 22:06:31,553 : WARNING : cannot compute similarity with no input ['.redirectto_PROPN']\n",
      "2020-11-27 22:06:32,631 : WARNING : cannot compute similarity with no input ['defensetech.org_PROPN']\n",
      "2020-11-27 22:06:32,986 : WARNING : cannot compute similarity with no input ['.redirectto_PROPN']\n",
      "2020-11-27 22:06:37,565 : WARNING : cannot compute similarity with no input ['тришуть_NOUN']\n",
      "2020-11-27 22:06:39,848 : WARNING : cannot compute similarity with no input ['defensenews.com_X']\n",
      "2020-11-27 22:06:57,585 : WARNING : cannot compute similarity with no input ['news24.com_X']\n",
      "2020-11-27 22:07:00,100 : WARNING : cannot compute similarity with no input ['.redirectto_PROPN']\n",
      "2020-11-27 22:07:06,267 : WARNING : cannot compute similarity with no input ['defensetech_PROPN']\n",
      "2020-11-27 22:07:09,746 : WARNING : cannot compute similarity with no input ['dw-world_PROPN']\n"
     ]
    },
    {
     "name": "stdout",
     "output_type": "stream",
     "text": [
      "CPU times: user 5min 41s, sys: 2.3 s, total: 5min 43s\n",
      "Wall time: 5min 44s\n"
     ]
    }
   ],
   "source": [
    "%%time\n",
    "X_train_word_average = word_averaging_list(wv,train_data.text)\n",
    "X_test_word_average = word_averaging_list(wv,test_data.text)"
   ]
  },
  {
   "cell_type": "code",
   "execution_count": 29,
   "metadata": {},
   "outputs": [
    {
     "name": "stdout",
     "output_type": "stream",
     "text": [
      "CPU times: user 1d 2h 6min 14s, sys: 1min 43s, total: 1d 2h 7min 58s\n",
      "Wall time: 1d 2h 8min 19s\n"
     ]
    },
    {
     "data": {
      "text/plain": [
       "0.8490023293014902"
      ]
     },
     "execution_count": 29,
     "metadata": {},
     "output_type": "execute_result"
    }
   ],
   "source": [
    "%%time\n",
    "\n",
    "# Полиномиальное ядро с С=5\n",
    "\n",
    "clf = SVC(kernel='poly', C=5)\n",
    "clf.fit(X_train_word_average, train_data.topic)\n",
    "prediction = clf.predict(X_test_word_average)\n",
    "sklearn.metrics.f1_score(test_data.topic, prediction,average ='micro')"
   ]
  },
  {
   "cell_type": "code",
   "execution_count": null,
   "metadata": {},
   "outputs": [],
   "source": []
  }
 ],
 "metadata": {
  "kernelspec": {
   "display_name": "Python 3",
   "language": "python",
   "name": "python3"
  },
  "language_info": {
   "codemirror_mode": {
    "name": "ipython",
    "version": 3
   },
   "file_extension": ".py",
   "mimetype": "text/x-python",
   "name": "python",
   "nbconvert_exporter": "python",
   "pygments_lexer": "ipython3",
   "version": "3.8.5"
  }
 },
 "nbformat": 4,
 "nbformat_minor": 4
}
